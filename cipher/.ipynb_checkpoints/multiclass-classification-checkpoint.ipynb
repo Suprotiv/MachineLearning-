{
 "cells": [
  {
   "cell_type": "code",
   "execution_count": 3,
   "id": "a9ea0170",
   "metadata": {
    "_cell_guid": "b1076dfc-b9ad-4769-8c92-a6c4dae69d19",
    "_uuid": "8f2839f25d086af736a60e9eeb907d3b93b6e0e5",
    "execution": {
     "iopub.execute_input": "2023-12-18T16:28:46.010741Z",
     "iopub.status.busy": "2023-12-18T16:28:46.010380Z",
     "iopub.status.idle": "2023-12-18T16:28:46.834765Z",
     "shell.execute_reply": "2023-12-18T16:28:46.833872Z"
    },
    "papermill": {
     "duration": 0.848225,
     "end_time": "2023-12-18T16:28:46.836959",
     "exception": false,
     "start_time": "2023-12-18T16:28:45.988734",
     "status": "completed"
    },
    "tags": []
   },
   "outputs": [],
   "source": [
    "# This Python 3 environment comes with many helpful analytics libraries installed\n",
    "# It is defined by the kaggle/python Docker image: https://github.com/kaggle/docker-python\n",
    "# For example, here's several helpful packages to load\n",
    "\n",
    "import numpy as np # linear algebra\n",
    "import pandas as pd # data processing, CSV file I/O (e.g. pd.read_csv)\n",
    "\n",
    "# Input data files are available in the read-only \"../input/\" directory\n",
    "# For example, running this (by clicking run or pressing Shift+Enter) will list all files under the input directory\n",
    "\n",
    "import os\n",
    "for dirname, _, filenames in os.walk('/kaggle/input'):\n",
    "    for filename in filenames:\n",
    "        print(os.path.join(dirname, filename))\n",
    "\n",
    "# You can write up to 20GB to the current directory (/kaggle/working/) that gets preserved as output when you create a version using \"Save & Run All\" \n",
    "# You can also write temporary files to /kaggle/temp/, but they won't be saved outside of the current session"
   ]
  },
  {
   "cell_type": "code",
   "execution_count": 6,
   "id": "63062022",
   "metadata": {
    "execution": {
     "iopub.execute_input": "2023-12-18T16:28:46.878519Z",
     "iopub.status.busy": "2023-12-18T16:28:46.877768Z",
     "iopub.status.idle": "2023-12-18T16:28:58.231937Z",
     "shell.execute_reply": "2023-12-18T16:28:58.230975Z"
    },
    "papermill": {
     "duration": 11.376994,
     "end_time": "2023-12-18T16:28:58.234271",
     "exception": false,
     "start_time": "2023-12-18T16:28:46.857277",
     "status": "completed"
    },
    "tags": []
   },
   "outputs": [],
   "source": [
    "import numpy as np\n",
    "import pandas as pd\n",
    "import matplotlib.pyplot as plt\n",
    "import seaborn as sns\n",
    "import scipy as sc\n",
    "import random\n",
    "import time\n",
    "from sklearn.utils import shuffle\n",
    "\n",
    "from sklearn.preprocessing import LabelEncoder\n",
    "from sklearn.model_selection import train_test_split\n",
    "\n",
    "\n"
   ]
  },
  {
   "cell_type": "code",
   "execution_count": null,
   "id": "4a2b7dd2",
   "metadata": {
    "execution": {
     "iopub.execute_input": "2023-12-18T16:28:58.277098Z",
     "iopub.status.busy": "2023-12-18T16:28:58.276514Z",
     "iopub.status.idle": "2023-12-18T16:29:01.374510Z",
     "shell.execute_reply": "2023-12-18T16:29:01.373277Z"
    },
    "papermill": {
     "duration": 3.121469,
     "end_time": "2023-12-18T16:29:01.376131",
     "exception": true,
     "start_time": "2023-12-18T16:28:58.254662",
     "status": "failed"
    },
    "tags": []
   },
   "outputs": [],
   "source": []
  },
  {
   "cell_type": "code",
   "execution_count": 9,
   "id": "003498ea",
   "metadata": {
    "execution": {
     "iopub.execute_input": "2023-10-19T16:53:32.596323Z",
     "iopub.status.busy": "2023-10-19T16:53:32.595753Z",
     "iopub.status.idle": "2023-10-19T16:53:32.657007Z",
     "shell.execute_reply": "2023-10-19T16:53:32.656174Z",
     "shell.execute_reply.started": "2023-10-19T16:53:32.596297Z"
    },
    "papermill": {
     "duration": null,
     "end_time": null,
     "exception": null,
     "start_time": null,
     "status": "pending"
    },
    "tags": []
   },
   "outputs": [],
   "source": [
    "df = pd.read_csv('train.csv')"
   ]
  },
  {
   "cell_type": "code",
   "execution_count": 10,
   "id": "bc9e6fe3",
   "metadata": {
    "execution": {
     "iopub.execute_input": "2023-10-19T16:53:32.658548Z",
     "iopub.status.busy": "2023-10-19T16:53:32.658178Z",
     "iopub.status.idle": "2023-10-19T16:53:32.683429Z",
     "shell.execute_reply": "2023-10-19T16:53:32.682626Z",
     "shell.execute_reply.started": "2023-10-19T16:53:32.658515Z"
    },
    "papermill": {
     "duration": null,
     "end_time": null,
     "exception": null,
     "start_time": null,
     "status": "pending"
    },
    "tags": []
   },
   "outputs": [],
   "source": [
    "dftest = pd.read_csv('test.csv')\n"
   ]
  },
  {
   "cell_type": "code",
   "execution_count": 11,
   "id": "cda51951",
   "metadata": {
    "execution": {
     "iopub.execute_input": "2023-10-19T16:53:32.685222Z",
     "iopub.status.busy": "2023-10-19T16:53:32.684981Z",
     "iopub.status.idle": "2023-10-19T16:53:32.693016Z",
     "shell.execute_reply": "2023-10-19T16:53:32.692171Z",
     "shell.execute_reply.started": "2023-10-19T16:53:32.685203Z"
    },
    "papermill": {
     "duration": null,
     "end_time": null,
     "exception": null,
     "start_time": null,
     "status": "pending"
    },
    "tags": []
   },
   "outputs": [],
   "source": [
    "dfid = pd.DataFrame()\n",
    "dfid[\"id\"] = dftest['id']"
   ]
  },
  {
   "cell_type": "code",
   "execution_count": 12,
   "id": "f7988494",
   "metadata": {
    "execution": {
     "iopub.execute_input": "2023-10-19T16:31:53.596885Z",
     "iopub.status.busy": "2023-10-19T16:31:53.596619Z",
     "iopub.status.idle": "2023-10-19T16:31:53.635670Z",
     "shell.execute_reply": "2023-10-19T16:31:53.634721Z",
     "shell.execute_reply.started": "2023-10-19T16:31:53.596864Z"
    },
    "papermill": {
     "duration": null,
     "end_time": null,
     "exception": null,
     "start_time": null,
     "status": "pending"
    },
    "tags": []
   },
   "outputs": [
    {
     "data": {
      "text/html": [
       "<div>\n",
       "<style scoped>\n",
       "    .dataframe tbody tr th:only-of-type {\n",
       "        vertical-align: middle;\n",
       "    }\n",
       "\n",
       "    .dataframe tbody tr th {\n",
       "        vertical-align: top;\n",
       "    }\n",
       "\n",
       "    .dataframe thead th {\n",
       "        text-align: right;\n",
       "    }\n",
       "</style>\n",
       "<table border=\"1\" class=\"dataframe\">\n",
       "  <thead>\n",
       "    <tr style=\"text-align: right;\">\n",
       "      <th></th>\n",
       "      <th>id</th>\n",
       "      <th>time</th>\n",
       "      <th>latitude</th>\n",
       "      <th>longitude</th>\n",
       "      <th>depth</th>\n",
       "      <th>mag</th>\n",
       "      <th>magType</th>\n",
       "      <th>nst</th>\n",
       "      <th>gap</th>\n",
       "      <th>dmin</th>\n",
       "      <th>rms</th>\n",
       "      <th>updated</th>\n",
       "      <th>place</th>\n",
       "      <th>type</th>\n",
       "      <th>horizontalError</th>\n",
       "      <th>depthError</th>\n",
       "      <th>magError</th>\n",
       "      <th>magNst</th>\n",
       "      <th>status</th>\n",
       "      <th>magSource</th>\n",
       "    </tr>\n",
       "  </thead>\n",
       "  <tbody>\n",
       "    <tr>\n",
       "      <th>0</th>\n",
       "      <td>ak023bhr3gi7</td>\n",
       "      <td>2023-09-07T18:04:16.796Z</td>\n",
       "      <td>68.169223</td>\n",
       "      <td>-140.797898</td>\n",
       "      <td>24.700</td>\n",
       "      <td>0.990448</td>\n",
       "      <td>ml</td>\n",
       "      <td>22.574527</td>\n",
       "      <td>113.664517</td>\n",
       "      <td>0.580381</td>\n",
       "      <td>0.200713</td>\n",
       "      <td>2023-09-07T18:05:52.738Z</td>\n",
       "      <td>Central Alaska</td>\n",
       "      <td>earthquake</td>\n",
       "      <td>1.519721</td>\n",
       "      <td>-4.355533</td>\n",
       "      <td>0.224450</td>\n",
       "      <td>15.934177</td>\n",
       "      <td>automatic</td>\n",
       "      <td>0</td>\n",
       "    </tr>\n",
       "    <tr>\n",
       "      <th>1</th>\n",
       "      <td>ak023bhqsbjj</td>\n",
       "      <td>2023-09-07T17:52:20.316Z</td>\n",
       "      <td>41.519195</td>\n",
       "      <td>-172.943514</td>\n",
       "      <td>94.600</td>\n",
       "      <td>1.274523</td>\n",
       "      <td>ml</td>\n",
       "      <td>22.574527</td>\n",
       "      <td>113.664517</td>\n",
       "      <td>0.580381</td>\n",
       "      <td>0.229812</td>\n",
       "      <td>2023-09-07T17:54:02.345Z</td>\n",
       "      <td>35 km WSW of Petersville, Alaska</td>\n",
       "      <td>earthquake</td>\n",
       "      <td>1.519721</td>\n",
       "      <td>28.978306</td>\n",
       "      <td>0.224450</td>\n",
       "      <td>15.934177</td>\n",
       "      <td>automatic</td>\n",
       "      <td>0</td>\n",
       "    </tr>\n",
       "    <tr>\n",
       "      <th>2</th>\n",
       "      <td>nc73934281</td>\n",
       "      <td>2023-09-07T17:42:47.850Z</td>\n",
       "      <td>35.197428</td>\n",
       "      <td>-101.446007</td>\n",
       "      <td>-0.460</td>\n",
       "      <td>1.546300</td>\n",
       "      <td>ml</td>\n",
       "      <td>39.000000</td>\n",
       "      <td>118.000000</td>\n",
       "      <td>0.140900</td>\n",
       "      <td>0.093344</td>\n",
       "      <td>2023-09-07T18:06:10.553Z</td>\n",
       "      <td>13 km S of Redway, CA</td>\n",
       "      <td>earthquake</td>\n",
       "      <td>0.890000</td>\n",
       "      <td>16.598938</td>\n",
       "      <td>0.259000</td>\n",
       "      <td>11.000000</td>\n",
       "      <td>automatic</td>\n",
       "      <td>6</td>\n",
       "    </tr>\n",
       "    <tr>\n",
       "      <th>3</th>\n",
       "      <td>ak023bhqliix</td>\n",
       "      <td>2023-09-07T17:20:44.539Z</td>\n",
       "      <td>119.063032</td>\n",
       "      <td>-170.086021</td>\n",
       "      <td>21.900</td>\n",
       "      <td>-1.769233</td>\n",
       "      <td>ml</td>\n",
       "      <td>22.574527</td>\n",
       "      <td>113.664517</td>\n",
       "      <td>0.580381</td>\n",
       "      <td>0.388880</td>\n",
       "      <td>2023-09-07T17:23:12.224Z</td>\n",
       "      <td>13 km SSE of South Van Horn, Alaska</td>\n",
       "      <td>earthquake</td>\n",
       "      <td>1.519721</td>\n",
       "      <td>2.708122</td>\n",
       "      <td>0.224450</td>\n",
       "      <td>15.934177</td>\n",
       "      <td>automatic</td>\n",
       "      <td>0</td>\n",
       "    </tr>\n",
       "    <tr>\n",
       "      <th>4</th>\n",
       "      <td>hv73567917</td>\n",
       "      <td>2023-09-07T17:08:48.580Z</td>\n",
       "      <td>-0.283199</td>\n",
       "      <td>-164.414244</td>\n",
       "      <td>2.080</td>\n",
       "      <td>1.669885</td>\n",
       "      <td>ml</td>\n",
       "      <td>33.000000</td>\n",
       "      <td>166.000000</td>\n",
       "      <td>0.580381</td>\n",
       "      <td>0.228542</td>\n",
       "      <td>2023-09-07T17:14:17.600Z</td>\n",
       "      <td>15 km NE of Pāhala, Hawaii</td>\n",
       "      <td>earthquake</td>\n",
       "      <td>0.380000</td>\n",
       "      <td>3.135861</td>\n",
       "      <td>2.890000</td>\n",
       "      <td>9.000000</td>\n",
       "      <td>automatic</td>\n",
       "      <td>4</td>\n",
       "    </tr>\n",
       "    <tr>\n",
       "      <th>...</th>\n",
       "      <td>...</td>\n",
       "      <td>...</td>\n",
       "      <td>...</td>\n",
       "      <td>...</td>\n",
       "      <td>...</td>\n",
       "      <td>...</td>\n",
       "      <td>...</td>\n",
       "      <td>...</td>\n",
       "      <td>...</td>\n",
       "      <td>...</td>\n",
       "      <td>...</td>\n",
       "      <td>...</td>\n",
       "      <td>...</td>\n",
       "      <td>...</td>\n",
       "      <td>...</td>\n",
       "      <td>...</td>\n",
       "      <td>...</td>\n",
       "      <td>...</td>\n",
       "      <td>...</td>\n",
       "      <td>...</td>\n",
       "    </tr>\n",
       "    <tr>\n",
       "      <th>8767</th>\n",
       "      <td>uw61941107</td>\n",
       "      <td>2023-08-14T00:31:15.390Z</td>\n",
       "      <td>31.144156</td>\n",
       "      <td>120.562694</td>\n",
       "      <td>9.230</td>\n",
       "      <td>-5.646131</td>\n",
       "      <td>ml</td>\n",
       "      <td>53.000000</td>\n",
       "      <td>43.000000</td>\n",
       "      <td>0.022430</td>\n",
       "      <td>0.541601</td>\n",
       "      <td>2023-08-15T04:24:04.400Z</td>\n",
       "      <td>31 km NNE of Amboy, Washington</td>\n",
       "      <td>earthquake</td>\n",
       "      <td>10.900000</td>\n",
       "      <td>9.845205</td>\n",
       "      <td>0.161579</td>\n",
       "      <td>31.000000</td>\n",
       "      <td>reviewed</td>\n",
       "      <td>15</td>\n",
       "    </tr>\n",
       "    <tr>\n",
       "      <th>8768</th>\n",
       "      <td>us6000kzs7</td>\n",
       "      <td>2023-08-14T00:26:42.920Z</td>\n",
       "      <td>-29.115846</td>\n",
       "      <td>120.562694</td>\n",
       "      <td>167.498</td>\n",
       "      <td>-5.646131</td>\n",
       "      <td>mb</td>\n",
       "      <td>19.000000</td>\n",
       "      <td>78.000000</td>\n",
       "      <td>1.505000</td>\n",
       "      <td>1.530275</td>\n",
       "      <td>2023-09-01T05:48:52.040Z</td>\n",
       "      <td>79 km WNW of San Antonio de los Cobres, Argentina</td>\n",
       "      <td>earthquake</td>\n",
       "      <td>10.900000</td>\n",
       "      <td>13.492687</td>\n",
       "      <td>0.172000</td>\n",
       "      <td>9.000000</td>\n",
       "      <td>reviewed</td>\n",
       "      <td>13</td>\n",
       "    </tr>\n",
       "    <tr>\n",
       "      <th>8769</th>\n",
       "      <td>nc73923846</td>\n",
       "      <td>2023-08-14T00:23:36.130Z</td>\n",
       "      <td>30.012506</td>\n",
       "      <td>120.562694</td>\n",
       "      <td>1.150</td>\n",
       "      <td>-5.646131</td>\n",
       "      <td>md</td>\n",
       "      <td>8.000000</td>\n",
       "      <td>99.000000</td>\n",
       "      <td>0.009040</td>\n",
       "      <td>-0.103451</td>\n",
       "      <td>2023-08-14T01:48:13.806Z</td>\n",
       "      <td>3 km E of The Geysers, CA</td>\n",
       "      <td>earthquake</td>\n",
       "      <td>10.900000</td>\n",
       "      <td>-5.978419</td>\n",
       "      <td>0.200000</td>\n",
       "      <td>7.000000</td>\n",
       "      <td>automatic</td>\n",
       "      <td>6</td>\n",
       "    </tr>\n",
       "    <tr>\n",
       "      <th>8770</th>\n",
       "      <td>us7000kqey</td>\n",
       "      <td>2023-08-14T00:17:44.923Z</td>\n",
       "      <td>-1.273995</td>\n",
       "      <td>120.562694</td>\n",
       "      <td>134.354</td>\n",
       "      <td>-5.646131</td>\n",
       "      <td>mb</td>\n",
       "      <td>32.000000</td>\n",
       "      <td>93.000000</td>\n",
       "      <td>1.313000</td>\n",
       "      <td>0.768587</td>\n",
       "      <td>2023-09-01T05:39:11.040Z</td>\n",
       "      <td>127 km ENE of Kimbe, Papua New Guinea</td>\n",
       "      <td>earthquake</td>\n",
       "      <td>10.900000</td>\n",
       "      <td>32.081562</td>\n",
       "      <td>0.115000</td>\n",
       "      <td>22.000000</td>\n",
       "      <td>reviewed</td>\n",
       "      <td>13</td>\n",
       "    </tr>\n",
       "    <tr>\n",
       "      <th>8771</th>\n",
       "      <td>ak023adrk4y9</td>\n",
       "      <td>2023-08-14T00:17:28.279Z</td>\n",
       "      <td>55.914185</td>\n",
       "      <td>120.562694</td>\n",
       "      <td>0.000</td>\n",
       "      <td>0.376791</td>\n",
       "      <td>ml</td>\n",
       "      <td>22.574527</td>\n",
       "      <td>113.664517</td>\n",
       "      <td>0.580381</td>\n",
       "      <td>0.629113</td>\n",
       "      <td>2023-08-25T21:48:51.906Z</td>\n",
       "      <td>12 km ENE of Fox, Alaska</td>\n",
       "      <td>explosion</td>\n",
       "      <td>10.900000</td>\n",
       "      <td>-20.747971</td>\n",
       "      <td>0.224450</td>\n",
       "      <td>15.934177</td>\n",
       "      <td>reviewed</td>\n",
       "      <td>0</td>\n",
       "    </tr>\n",
       "  </tbody>\n",
       "</table>\n",
       "<p>8772 rows × 20 columns</p>\n",
       "</div>"
      ],
      "text/plain": [
       "                id                      time    latitude   longitude    depth  \\\n",
       "0     ak023bhr3gi7  2023-09-07T18:04:16.796Z   68.169223 -140.797898   24.700   \n",
       "1     ak023bhqsbjj  2023-09-07T17:52:20.316Z   41.519195 -172.943514   94.600   \n",
       "2       nc73934281  2023-09-07T17:42:47.850Z   35.197428 -101.446007   -0.460   \n",
       "3     ak023bhqliix  2023-09-07T17:20:44.539Z  119.063032 -170.086021   21.900   \n",
       "4       hv73567917  2023-09-07T17:08:48.580Z   -0.283199 -164.414244    2.080   \n",
       "...            ...                       ...         ...         ...      ...   \n",
       "8767    uw61941107  2023-08-14T00:31:15.390Z   31.144156  120.562694    9.230   \n",
       "8768    us6000kzs7  2023-08-14T00:26:42.920Z  -29.115846  120.562694  167.498   \n",
       "8769    nc73923846  2023-08-14T00:23:36.130Z   30.012506  120.562694    1.150   \n",
       "8770    us7000kqey  2023-08-14T00:17:44.923Z   -1.273995  120.562694  134.354   \n",
       "8771  ak023adrk4y9  2023-08-14T00:17:28.279Z   55.914185  120.562694    0.000   \n",
       "\n",
       "           mag magType        nst         gap      dmin       rms  \\\n",
       "0     0.990448      ml  22.574527  113.664517  0.580381  0.200713   \n",
       "1     1.274523      ml  22.574527  113.664517  0.580381  0.229812   \n",
       "2     1.546300      ml  39.000000  118.000000  0.140900  0.093344   \n",
       "3    -1.769233      ml  22.574527  113.664517  0.580381  0.388880   \n",
       "4     1.669885      ml  33.000000  166.000000  0.580381  0.228542   \n",
       "...        ...     ...        ...         ...       ...       ...   \n",
       "8767 -5.646131      ml  53.000000   43.000000  0.022430  0.541601   \n",
       "8768 -5.646131      mb  19.000000   78.000000  1.505000  1.530275   \n",
       "8769 -5.646131      md   8.000000   99.000000  0.009040 -0.103451   \n",
       "8770 -5.646131      mb  32.000000   93.000000  1.313000  0.768587   \n",
       "8771  0.376791      ml  22.574527  113.664517  0.580381  0.629113   \n",
       "\n",
       "                       updated  \\\n",
       "0     2023-09-07T18:05:52.738Z   \n",
       "1     2023-09-07T17:54:02.345Z   \n",
       "2     2023-09-07T18:06:10.553Z   \n",
       "3     2023-09-07T17:23:12.224Z   \n",
       "4     2023-09-07T17:14:17.600Z   \n",
       "...                        ...   \n",
       "8767  2023-08-15T04:24:04.400Z   \n",
       "8768  2023-09-01T05:48:52.040Z   \n",
       "8769  2023-08-14T01:48:13.806Z   \n",
       "8770  2023-09-01T05:39:11.040Z   \n",
       "8771  2023-08-25T21:48:51.906Z   \n",
       "\n",
       "                                                  place        type  \\\n",
       "0                                        Central Alaska  earthquake   \n",
       "1                      35 km WSW of Petersville, Alaska  earthquake   \n",
       "2                                 13 km S of Redway, CA  earthquake   \n",
       "3                   13 km SSE of South Van Horn, Alaska  earthquake   \n",
       "4                            15 km NE of Pāhala, Hawaii  earthquake   \n",
       "...                                                 ...         ...   \n",
       "8767                     31 km NNE of Amboy, Washington  earthquake   \n",
       "8768  79 km WNW of San Antonio de los Cobres, Argentina  earthquake   \n",
       "8769                          3 km E of The Geysers, CA  earthquake   \n",
       "8770              127 km ENE of Kimbe, Papua New Guinea  earthquake   \n",
       "8771                           12 km ENE of Fox, Alaska   explosion   \n",
       "\n",
       "      horizontalError  depthError  magError     magNst     status  magSource  \n",
       "0            1.519721   -4.355533  0.224450  15.934177  automatic          0  \n",
       "1            1.519721   28.978306  0.224450  15.934177  automatic          0  \n",
       "2            0.890000   16.598938  0.259000  11.000000  automatic          6  \n",
       "3            1.519721    2.708122  0.224450  15.934177  automatic          0  \n",
       "4            0.380000    3.135861  2.890000   9.000000  automatic          4  \n",
       "...               ...         ...       ...        ...        ...        ...  \n",
       "8767        10.900000    9.845205  0.161579  31.000000   reviewed         15  \n",
       "8768        10.900000   13.492687  0.172000   9.000000   reviewed         13  \n",
       "8769        10.900000   -5.978419  0.200000   7.000000  automatic          6  \n",
       "8770        10.900000   32.081562  0.115000  22.000000   reviewed         13  \n",
       "8771        10.900000  -20.747971  0.224450  15.934177   reviewed          0  \n",
       "\n",
       "[8772 rows x 20 columns]"
      ]
     },
     "execution_count": 12,
     "metadata": {},
     "output_type": "execute_result"
    }
   ],
   "source": [
    "df"
   ]
  },
  {
   "cell_type": "code",
   "execution_count": 13,
   "id": "bd05a8eb",
   "metadata": {
    "execution": {
     "iopub.execute_input": "2023-10-19T16:53:33.539769Z",
     "iopub.status.busy": "2023-10-19T16:53:33.538697Z",
     "iopub.status.idle": "2023-10-19T16:53:33.544323Z",
     "shell.execute_reply": "2023-10-19T16:53:33.543410Z",
     "shell.execute_reply.started": "2023-10-19T16:53:33.539731Z"
    },
    "papermill": {
     "duration": null,
     "end_time": null,
     "exception": null,
     "start_time": null,
     "status": "pending"
    },
    "tags": []
   },
   "outputs": [
    {
     "name": "stdout",
     "output_type": "stream",
     "text": [
      "(2000, 19)\n",
      "(8772, 20)\n"
     ]
    }
   ],
   "source": [
    "print(dftest.shape)\n",
    "print(df.shape)"
   ]
  },
  {
   "cell_type": "code",
   "execution_count": 14,
   "id": "eabdea0d",
   "metadata": {
    "execution": {
     "iopub.execute_input": "2023-10-19T16:53:34.632448Z",
     "iopub.status.busy": "2023-10-19T16:53:34.631867Z",
     "iopub.status.idle": "2023-10-19T16:53:34.647973Z",
     "shell.execute_reply": "2023-10-19T16:53:34.646972Z",
     "shell.execute_reply.started": "2023-10-19T16:53:34.632420Z"
    },
    "papermill": {
     "duration": null,
     "end_time": null,
     "exception": null,
     "start_time": null,
     "status": "pending"
    },
    "tags": []
   },
   "outputs": [],
   "source": [
    "df[\"time\"] = df[\"time\"].apply(lambda x:str(x)[:10])\n",
    "dftest[\"time\"] = dftest[\"time\"].apply(lambda x:str(x)[:10])\n",
    "df[\"updated\"] = df[\"updated\"].apply(lambda x:str(x)[:10])\n",
    "dftest[\"updated\"] = dftest[\"updated\"].apply(lambda x:str(x)[:10])\n"
   ]
  },
  {
   "cell_type": "code",
   "execution_count": 15,
   "id": "c632ec78",
   "metadata": {
    "execution": {
     "iopub.execute_input": "2023-10-19T16:53:35.126841Z",
     "iopub.status.busy": "2023-10-19T16:53:35.126146Z",
     "iopub.status.idle": "2023-10-19T16:53:35.138070Z",
     "shell.execute_reply": "2023-10-19T16:53:35.137050Z",
     "shell.execute_reply.started": "2023-10-19T16:53:35.126804Z"
    },
    "papermill": {
     "duration": null,
     "end_time": null,
     "exception": null,
     "start_time": null,
     "status": "pending"
    },
    "tags": []
   },
   "outputs": [],
   "source": [
    "def substr(x):\n",
    "    try:\n",
    "        val = x.index(',')\n",
    "    except:\n",
    "        val = 0\n",
    "    return x[val+1:]\n",
    "df[\"place\"]=df['place'].apply(substr)#lambda x:str(x)[str(x).index(','):])\n",
    "dftest[\"place\"]=dftest['place'].apply(substr)#lambda x:str(x)[str(x).index(','):])\n"
   ]
  },
  {
   "cell_type": "code",
   "execution_count": 16,
   "id": "d96f3cdb",
   "metadata": {
    "execution": {
     "iopub.execute_input": "2023-10-19T16:53:36.492878Z",
     "iopub.status.busy": "2023-10-19T16:53:36.492495Z",
     "iopub.status.idle": "2023-10-19T16:53:36.500355Z",
     "shell.execute_reply": "2023-10-19T16:53:36.499391Z",
     "shell.execute_reply.started": "2023-10-19T16:53:36.492851Z"
    },
    "papermill": {
     "duration": null,
     "end_time": null,
     "exception": null,
     "start_time": null,
     "status": "pending"
    },
    "tags": []
   },
   "outputs": [
    {
     "data": {
      "text/plain": [
       "0"
      ]
     },
     "execution_count": 16,
     "metadata": {},
     "output_type": "execute_result"
    }
   ],
   "source": [
    "df.duplicated(subset=['id']).sum()"
   ]
  },
  {
   "cell_type": "code",
   "execution_count": 17,
   "id": "11c3bacf",
   "metadata": {
    "execution": {
     "iopub.execute_input": "2023-10-19T16:53:36.944452Z",
     "iopub.status.busy": "2023-10-19T16:53:36.944052Z",
     "iopub.status.idle": "2023-10-19T16:53:36.974559Z",
     "shell.execute_reply": "2023-10-19T16:53:36.973493Z",
     "shell.execute_reply.started": "2023-10-19T16:53:36.944424Z"
    },
    "papermill": {
     "duration": null,
     "end_time": null,
     "exception": null,
     "start_time": null,
     "status": "pending"
    },
    "tags": []
   },
   "outputs": [
    {
     "data": {
      "text/html": [
       "<div>\n",
       "<style scoped>\n",
       "    .dataframe tbody tr th:only-of-type {\n",
       "        vertical-align: middle;\n",
       "    }\n",
       "\n",
       "    .dataframe tbody tr th {\n",
       "        vertical-align: top;\n",
       "    }\n",
       "\n",
       "    .dataframe thead th {\n",
       "        text-align: right;\n",
       "    }\n",
       "</style>\n",
       "<table border=\"1\" class=\"dataframe\">\n",
       "  <thead>\n",
       "    <tr style=\"text-align: right;\">\n",
       "      <th></th>\n",
       "      <th>id</th>\n",
       "      <th>time</th>\n",
       "      <th>latitude</th>\n",
       "      <th>longitude</th>\n",
       "      <th>depth</th>\n",
       "      <th>mag</th>\n",
       "      <th>magType</th>\n",
       "      <th>nst</th>\n",
       "      <th>gap</th>\n",
       "      <th>dmin</th>\n",
       "      <th>rms</th>\n",
       "      <th>updated</th>\n",
       "      <th>place</th>\n",
       "      <th>type</th>\n",
       "      <th>horizontalError</th>\n",
       "      <th>depthError</th>\n",
       "      <th>magError</th>\n",
       "      <th>magNst</th>\n",
       "      <th>status</th>\n",
       "    </tr>\n",
       "  </thead>\n",
       "  <tbody>\n",
       "    <tr>\n",
       "      <th>0</th>\n",
       "      <td>mb90024428</td>\n",
       "      <td>2023-08-14</td>\n",
       "      <td>33.272268</td>\n",
       "      <td>-121.688226</td>\n",
       "      <td>20.89</td>\n",
       "      <td>1.790531</td>\n",
       "      <td>ml</td>\n",
       "      <td>16.000000</td>\n",
       "      <td>80.000000</td>\n",
       "      <td>0.189600</td>\n",
       "      <td>0.543262</td>\n",
       "      <td>2023-08-18</td>\n",
       "      <td>Montana</td>\n",
       "      <td>earthquake</td>\n",
       "      <td>0.390000</td>\n",
       "      <td>2.224452</td>\n",
       "      <td>0.147357</td>\n",
       "      <td>4.000000</td>\n",
       "      <td>reviewed</td>\n",
       "    </tr>\n",
       "    <tr>\n",
       "      <th>1</th>\n",
       "      <td>av92000481</td>\n",
       "      <td>2023-08-14</td>\n",
       "      <td>54.834051</td>\n",
       "      <td>-195.928453</td>\n",
       "      <td>5.47</td>\n",
       "      <td>0.493387</td>\n",
       "      <td>ml</td>\n",
       "      <td>6.000000</td>\n",
       "      <td>86.000000</td>\n",
       "      <td>0.580381</td>\n",
       "      <td>0.042003</td>\n",
       "      <td>2023-08-15</td>\n",
       "      <td>Alaska</td>\n",
       "      <td>earthquake</td>\n",
       "      <td>0.320000</td>\n",
       "      <td>22.637804</td>\n",
       "      <td>0.271374</td>\n",
       "      <td>6.000000</td>\n",
       "      <td>reviewed</td>\n",
       "    </tr>\n",
       "    <tr>\n",
       "      <th>2</th>\n",
       "      <td>av92000476</td>\n",
       "      <td>2023-08-14</td>\n",
       "      <td>36.356531</td>\n",
       "      <td>-142.555407</td>\n",
       "      <td>2.66</td>\n",
       "      <td>0.128441</td>\n",
       "      <td>ml</td>\n",
       "      <td>9.000000</td>\n",
       "      <td>82.000000</td>\n",
       "      <td>0.580381</td>\n",
       "      <td>0.325404</td>\n",
       "      <td>2023-08-15</td>\n",
       "      <td>Alaska</td>\n",
       "      <td>earthquake</td>\n",
       "      <td>0.350000</td>\n",
       "      <td>2.182180</td>\n",
       "      <td>0.149368</td>\n",
       "      <td>9.000000</td>\n",
       "      <td>reviewed</td>\n",
       "    </tr>\n",
       "    <tr>\n",
       "      <th>3</th>\n",
       "      <td>ci40536176</td>\n",
       "      <td>2023-08-14</td>\n",
       "      <td>36.202698</td>\n",
       "      <td>-160.911775</td>\n",
       "      <td>9.73</td>\n",
       "      <td>-0.267106</td>\n",
       "      <td>ml</td>\n",
       "      <td>22.000000</td>\n",
       "      <td>214.000000</td>\n",
       "      <td>0.071750</td>\n",
       "      <td>1.018775</td>\n",
       "      <td>2023-08-14</td>\n",
       "      <td>CA</td>\n",
       "      <td>earthquake</td>\n",
       "      <td>0.850000</td>\n",
       "      <td>-10.724482</td>\n",
       "      <td>0.166000</td>\n",
       "      <td>15.000000</td>\n",
       "      <td>reviewed</td>\n",
       "    </tr>\n",
       "    <tr>\n",
       "      <th>4</th>\n",
       "      <td>ak023adri0xq</td>\n",
       "      <td>2023-08-14</td>\n",
       "      <td>43.819581</td>\n",
       "      <td>-192.913599</td>\n",
       "      <td>75.90</td>\n",
       "      <td>2.012563</td>\n",
       "      <td>ml</td>\n",
       "      <td>22.574527</td>\n",
       "      <td>113.664517</td>\n",
       "      <td>0.580381</td>\n",
       "      <td>0.978111</td>\n",
       "      <td>2023-08-25</td>\n",
       "      <td>Alaska</td>\n",
       "      <td>earthquake</td>\n",
       "      <td>1.519721</td>\n",
       "      <td>21.766694</td>\n",
       "      <td>0.224450</td>\n",
       "      <td>15.934177</td>\n",
       "      <td>reviewed</td>\n",
       "    </tr>\n",
       "    <tr>\n",
       "      <th>...</th>\n",
       "      <td>...</td>\n",
       "      <td>...</td>\n",
       "      <td>...</td>\n",
       "      <td>...</td>\n",
       "      <td>...</td>\n",
       "      <td>...</td>\n",
       "      <td>...</td>\n",
       "      <td>...</td>\n",
       "      <td>...</td>\n",
       "      <td>...</td>\n",
       "      <td>...</td>\n",
       "      <td>...</td>\n",
       "      <td>...</td>\n",
       "      <td>...</td>\n",
       "      <td>...</td>\n",
       "      <td>...</td>\n",
       "      <td>...</td>\n",
       "      <td>...</td>\n",
       "      <td>...</td>\n",
       "    </tr>\n",
       "    <tr>\n",
       "      <th>1995</th>\n",
       "      <td>nc73921886</td>\n",
       "      <td>2023-08-08</td>\n",
       "      <td>17.193430</td>\n",
       "      <td>-181.974876</td>\n",
       "      <td>2.25</td>\n",
       "      <td>0.597046</td>\n",
       "      <td>md</td>\n",
       "      <td>13.000000</td>\n",
       "      <td>66.000000</td>\n",
       "      <td>0.010890</td>\n",
       "      <td>-0.191347</td>\n",
       "      <td>2023-08-08</td>\n",
       "      <td>CA</td>\n",
       "      <td>earthquake</td>\n",
       "      <td>0.320000</td>\n",
       "      <td>4.441409</td>\n",
       "      <td>0.110000</td>\n",
       "      <td>13.000000</td>\n",
       "      <td>automatic</td>\n",
       "    </tr>\n",
       "    <tr>\n",
       "      <th>1996</th>\n",
       "      <td>ak023a452ots</td>\n",
       "      <td>2023-08-08</td>\n",
       "      <td>70.005939</td>\n",
       "      <td>-163.073077</td>\n",
       "      <td>24.30</td>\n",
       "      <td>0.560928</td>\n",
       "      <td>ml</td>\n",
       "      <td>22.574527</td>\n",
       "      <td>113.664517</td>\n",
       "      <td>0.580381</td>\n",
       "      <td>0.543477</td>\n",
       "      <td>2023-08-21</td>\n",
       "      <td>Alaska</td>\n",
       "      <td>earthquake</td>\n",
       "      <td>1.519721</td>\n",
       "      <td>6.035813</td>\n",
       "      <td>0.224450</td>\n",
       "      <td>15.934177</td>\n",
       "      <td>reviewed</td>\n",
       "    </tr>\n",
       "    <tr>\n",
       "      <th>1997</th>\n",
       "      <td>ci40531952</td>\n",
       "      <td>2023-08-08</td>\n",
       "      <td>45.712914</td>\n",
       "      <td>-134.585391</td>\n",
       "      <td>16.95</td>\n",
       "      <td>3.765984</td>\n",
       "      <td>ml</td>\n",
       "      <td>16.000000</td>\n",
       "      <td>75.000000</td>\n",
       "      <td>0.076420</td>\n",
       "      <td>0.440656</td>\n",
       "      <td>2023-08-29</td>\n",
       "      <td>B.C., MX</td>\n",
       "      <td>earthquake</td>\n",
       "      <td>0.460000</td>\n",
       "      <td>7.430496</td>\n",
       "      <td>0.122000</td>\n",
       "      <td>25.000000</td>\n",
       "      <td>reviewed</td>\n",
       "    </tr>\n",
       "    <tr>\n",
       "      <th>1998</th>\n",
       "      <td>ak023a4528xn</td>\n",
       "      <td>2023-08-08</td>\n",
       "      <td>65.660030</td>\n",
       "      <td>-179.641871</td>\n",
       "      <td>13.60</td>\n",
       "      <td>2.914436</td>\n",
       "      <td>ml</td>\n",
       "      <td>22.574527</td>\n",
       "      <td>113.664517</td>\n",
       "      <td>0.580381</td>\n",
       "      <td>0.802550</td>\n",
       "      <td>2023-08-21</td>\n",
       "      <td>Alaska</td>\n",
       "      <td>earthquake</td>\n",
       "      <td>1.519721</td>\n",
       "      <td>-7.141418</td>\n",
       "      <td>0.224450</td>\n",
       "      <td>15.934177</td>\n",
       "      <td>reviewed</td>\n",
       "    </tr>\n",
       "    <tr>\n",
       "      <th>1999</th>\n",
       "      <td>ak023a4505et</td>\n",
       "      <td>2023-08-08</td>\n",
       "      <td>30.926749</td>\n",
       "      <td>-207.799396</td>\n",
       "      <td>44.60</td>\n",
       "      <td>1.236958</td>\n",
       "      <td>ml</td>\n",
       "      <td>22.574527</td>\n",
       "      <td>113.664517</td>\n",
       "      <td>0.580381</td>\n",
       "      <td>0.885860</td>\n",
       "      <td>2023-08-21</td>\n",
       "      <td>Alaska</td>\n",
       "      <td>earthquake</td>\n",
       "      <td>1.519721</td>\n",
       "      <td>10.509254</td>\n",
       "      <td>0.224450</td>\n",
       "      <td>15.934177</td>\n",
       "      <td>reviewed</td>\n",
       "    </tr>\n",
       "  </tbody>\n",
       "</table>\n",
       "<p>2000 rows × 19 columns</p>\n",
       "</div>"
      ],
      "text/plain": [
       "                id        time   latitude   longitude  depth       mag  \\\n",
       "0       mb90024428  2023-08-14  33.272268 -121.688226  20.89  1.790531   \n",
       "1       av92000481  2023-08-14  54.834051 -195.928453   5.47  0.493387   \n",
       "2       av92000476  2023-08-14  36.356531 -142.555407   2.66  0.128441   \n",
       "3       ci40536176  2023-08-14  36.202698 -160.911775   9.73 -0.267106   \n",
       "4     ak023adri0xq  2023-08-14  43.819581 -192.913599  75.90  2.012563   \n",
       "...            ...         ...        ...         ...    ...       ...   \n",
       "1995    nc73921886  2023-08-08  17.193430 -181.974876   2.25  0.597046   \n",
       "1996  ak023a452ots  2023-08-08  70.005939 -163.073077  24.30  0.560928   \n",
       "1997    ci40531952  2023-08-08  45.712914 -134.585391  16.95  3.765984   \n",
       "1998  ak023a4528xn  2023-08-08  65.660030 -179.641871  13.60  2.914436   \n",
       "1999  ak023a4505et  2023-08-08  30.926749 -207.799396  44.60  1.236958   \n",
       "\n",
       "     magType        nst         gap      dmin       rms     updated  \\\n",
       "0         ml  16.000000   80.000000  0.189600  0.543262  2023-08-18   \n",
       "1         ml   6.000000   86.000000  0.580381  0.042003  2023-08-15   \n",
       "2         ml   9.000000   82.000000  0.580381  0.325404  2023-08-15   \n",
       "3         ml  22.000000  214.000000  0.071750  1.018775  2023-08-14   \n",
       "4         ml  22.574527  113.664517  0.580381  0.978111  2023-08-25   \n",
       "...      ...        ...         ...       ...       ...         ...   \n",
       "1995      md  13.000000   66.000000  0.010890 -0.191347  2023-08-08   \n",
       "1996      ml  22.574527  113.664517  0.580381  0.543477  2023-08-21   \n",
       "1997      ml  16.000000   75.000000  0.076420  0.440656  2023-08-29   \n",
       "1998      ml  22.574527  113.664517  0.580381  0.802550  2023-08-21   \n",
       "1999      ml  22.574527  113.664517  0.580381  0.885860  2023-08-21   \n",
       "\n",
       "          place        type  horizontalError  depthError  magError     magNst  \\\n",
       "0       Montana  earthquake         0.390000    2.224452  0.147357   4.000000   \n",
       "1        Alaska  earthquake         0.320000   22.637804  0.271374   6.000000   \n",
       "2        Alaska  earthquake         0.350000    2.182180  0.149368   9.000000   \n",
       "3            CA  earthquake         0.850000  -10.724482  0.166000  15.000000   \n",
       "4        Alaska  earthquake         1.519721   21.766694  0.224450  15.934177   \n",
       "...         ...         ...              ...         ...       ...        ...   \n",
       "1995         CA  earthquake         0.320000    4.441409  0.110000  13.000000   \n",
       "1996     Alaska  earthquake         1.519721    6.035813  0.224450  15.934177   \n",
       "1997   B.C., MX  earthquake         0.460000    7.430496  0.122000  25.000000   \n",
       "1998     Alaska  earthquake         1.519721   -7.141418  0.224450  15.934177   \n",
       "1999     Alaska  earthquake         1.519721   10.509254  0.224450  15.934177   \n",
       "\n",
       "         status  \n",
       "0      reviewed  \n",
       "1      reviewed  \n",
       "2      reviewed  \n",
       "3      reviewed  \n",
       "4      reviewed  \n",
       "...         ...  \n",
       "1995  automatic  \n",
       "1996   reviewed  \n",
       "1997   reviewed  \n",
       "1998   reviewed  \n",
       "1999   reviewed  \n",
       "\n",
       "[2000 rows x 19 columns]"
      ]
     },
     "execution_count": 17,
     "metadata": {},
     "output_type": "execute_result"
    }
   ],
   "source": [
    "dftest"
   ]
  },
  {
   "cell_type": "code",
   "execution_count": 18,
   "id": "7a238da1",
   "metadata": {
    "execution": {
     "iopub.execute_input": "2023-10-19T16:53:38.124384Z",
     "iopub.status.busy": "2023-10-19T16:53:38.124038Z",
     "iopub.status.idle": "2023-10-19T16:53:38.131545Z",
     "shell.execute_reply": "2023-10-19T16:53:38.130389Z",
     "shell.execute_reply.started": "2023-10-19T16:53:38.124360Z"
    },
    "papermill": {
     "duration": null,
     "end_time": null,
     "exception": null,
     "start_time": null,
     "status": "pending"
    },
    "tags": []
   },
   "outputs": [],
   "source": [
    "categorical_feature_mask = df.dtypes==object\n",
    "categorical_feature_mask[\"id\"] = False\n",
    "categorical_feature_mask[\"magType\"] = False\n",
    "categorical_feature_mask[\"type\"] = False\n",
    "categorical_feature_mask[\"status\"] = False\n",
    "\n",
    "#categorical_feature_mask\n",
    "# filter categorical columns using mask and turn it into a list\n",
    "categorical_cols = df.columns[categorical_feature_mask].tolist()\n",
    "categorical_feature_mask = dftest.dtypes==object\n",
    "categorical_feature_mask[\"id\"] = False\n",
    "categorical_feature_mask[\"magType\"] = False\n",
    "categorical_feature_mask[\"type\"] = False\n",
    "categorical_feature_mask[\"status\"] = False\n",
    "categorical_cols = dftest.columns[categorical_feature_mask].tolist()\n"
   ]
  },
  {
   "cell_type": "code",
   "execution_count": 19,
   "id": "487b5792",
   "metadata": {
    "execution": {
     "iopub.execute_input": "2023-10-19T16:53:39.133305Z",
     "iopub.status.busy": "2023-10-19T16:53:39.132985Z",
     "iopub.status.idle": "2023-10-19T16:53:39.138087Z",
     "shell.execute_reply": "2023-10-19T16:53:39.137298Z",
     "shell.execute_reply.started": "2023-10-19T16:53:39.133281Z"
    },
    "papermill": {
     "duration": null,
     "end_time": null,
     "exception": null,
     "start_time": null,
     "status": "pending"
    },
    "tags": []
   },
   "outputs": [
    {
     "name": "stdout",
     "output_type": "stream",
     "text": [
      "(2000, 19)\n",
      "(8772, 20)\n"
     ]
    }
   ],
   "source": [
    "print(dftest.shape)\n",
    "print(df.shape)"
   ]
  },
  {
   "cell_type": "code",
   "execution_count": 20,
   "id": "5b35e9d0",
   "metadata": {
    "execution": {
     "iopub.execute_input": "2023-10-19T16:53:39.490091Z",
     "iopub.status.busy": "2023-10-19T16:53:39.489649Z",
     "iopub.status.idle": "2023-10-19T16:53:39.494812Z",
     "shell.execute_reply": "2023-10-19T16:53:39.493820Z",
     "shell.execute_reply.started": "2023-10-19T16:53:39.490061Z"
    },
    "papermill": {
     "duration": null,
     "end_time": null,
     "exception": null,
     "start_time": null,
     "status": "pending"
    },
    "tags": []
   },
   "outputs": [],
   "source": [
    "from sklearn.preprocessing import LabelEncoder\n",
    "# instantiate labelencoder object\n",
    "le = LabelEncoder()"
   ]
  },
  {
   "cell_type": "code",
   "execution_count": 21,
   "id": "70a3d6e1",
   "metadata": {
    "execution": {
     "iopub.execute_input": "2023-10-19T16:53:40.320143Z",
     "iopub.status.busy": "2023-10-19T16:53:40.319795Z",
     "iopub.status.idle": "2023-10-19T16:53:40.344295Z",
     "shell.execute_reply": "2023-10-19T16:53:40.343208Z",
     "shell.execute_reply.started": "2023-10-19T16:53:40.320121Z"
    },
    "papermill": {
     "duration": null,
     "end_time": null,
     "exception": null,
     "start_time": null,
     "status": "pending"
    },
    "tags": []
   },
   "outputs": [
    {
     "data": {
      "text/html": [
       "<div>\n",
       "<style scoped>\n",
       "    .dataframe tbody tr th:only-of-type {\n",
       "        vertical-align: middle;\n",
       "    }\n",
       "\n",
       "    .dataframe tbody tr th {\n",
       "        vertical-align: top;\n",
       "    }\n",
       "\n",
       "    .dataframe thead th {\n",
       "        text-align: right;\n",
       "    }\n",
       "</style>\n",
       "<table border=\"1\" class=\"dataframe\">\n",
       "  <thead>\n",
       "    <tr style=\"text-align: right;\">\n",
       "      <th></th>\n",
       "      <th>time</th>\n",
       "      <th>updated</th>\n",
       "      <th>place</th>\n",
       "    </tr>\n",
       "  </thead>\n",
       "  <tbody>\n",
       "    <tr>\n",
       "      <th>0</th>\n",
       "      <td>6</td>\n",
       "      <td>10</td>\n",
       "      <td>28</td>\n",
       "    </tr>\n",
       "    <tr>\n",
       "      <th>1</th>\n",
       "      <td>6</td>\n",
       "      <td>7</td>\n",
       "      <td>1</td>\n",
       "    </tr>\n",
       "    <tr>\n",
       "      <th>2</th>\n",
       "      <td>6</td>\n",
       "      <td>7</td>\n",
       "      <td>1</td>\n",
       "    </tr>\n",
       "    <tr>\n",
       "      <th>3</th>\n",
       "      <td>6</td>\n",
       "      <td>6</td>\n",
       "      <td>7</td>\n",
       "    </tr>\n",
       "    <tr>\n",
       "      <th>4</th>\n",
       "      <td>6</td>\n",
       "      <td>17</td>\n",
       "      <td>1</td>\n",
       "    </tr>\n",
       "    <tr>\n",
       "      <th>5</th>\n",
       "      <td>5</td>\n",
       "      <td>7</td>\n",
       "      <td>7</td>\n",
       "    </tr>\n",
       "    <tr>\n",
       "      <th>6</th>\n",
       "      <td>5</td>\n",
       "      <td>22</td>\n",
       "      <td>1</td>\n",
       "    </tr>\n",
       "    <tr>\n",
       "      <th>7</th>\n",
       "      <td>5</td>\n",
       "      <td>6</td>\n",
       "      <td>7</td>\n",
       "    </tr>\n",
       "    <tr>\n",
       "      <th>8</th>\n",
       "      <td>5</td>\n",
       "      <td>6</td>\n",
       "      <td>19</td>\n",
       "    </tr>\n",
       "    <tr>\n",
       "      <th>9</th>\n",
       "      <td>5</td>\n",
       "      <td>21</td>\n",
       "      <td>1</td>\n",
       "    </tr>\n",
       "  </tbody>\n",
       "</table>\n",
       "</div>"
      ],
      "text/plain": [
       "   time  updated  place\n",
       "0     6       10     28\n",
       "1     6        7      1\n",
       "2     6        7      1\n",
       "3     6        6      7\n",
       "4     6       17      1\n",
       "5     5        7      7\n",
       "6     5       22      1\n",
       "7     5        6      7\n",
       "8     5        6     19\n",
       "9     5       21      1"
      ]
     },
     "execution_count": 21,
     "metadata": {},
     "output_type": "execute_result"
    }
   ],
   "source": [
    "df[categorical_cols] = df[categorical_cols].apply(lambda col: le.fit_transform(col))\n",
    "dftest[categorical_cols] = dftest[categorical_cols].apply(lambda col: le.fit_transform(col))\n",
    "\n",
    "dftest[categorical_cols].head(10)"
   ]
  },
  {
   "cell_type": "code",
   "execution_count": 22,
   "id": "bae2c588",
   "metadata": {
    "execution": {
     "iopub.execute_input": "2023-10-19T16:53:41.880932Z",
     "iopub.status.busy": "2023-10-19T16:53:41.880083Z",
     "iopub.status.idle": "2023-10-19T16:53:41.899298Z",
     "shell.execute_reply": "2023-10-19T16:53:41.898440Z",
     "shell.execute_reply.started": "2023-10-19T16:53:41.880900Z"
    },
    "papermill": {
     "duration": null,
     "end_time": null,
     "exception": null,
     "start_time": null,
     "status": "pending"
    },
    "tags": []
   },
   "outputs": [],
   "source": [
    "df = pd.get_dummies(df, columns = ['magType','type','status']) \n",
    "dftest = pd.get_dummies(dftest, columns = ['magType','type','status']) "
   ]
  },
  {
   "cell_type": "code",
   "execution_count": 23,
   "id": "2968222e",
   "metadata": {
    "execution": {
     "iopub.execute_input": "2023-10-19T16:53:42.680459Z",
     "iopub.status.busy": "2023-10-19T16:53:42.680090Z",
     "iopub.status.idle": "2023-10-19T16:53:42.685165Z",
     "shell.execute_reply": "2023-10-19T16:53:42.684196Z",
     "shell.execute_reply.started": "2023-10-19T16:53:42.680431Z"
    },
    "papermill": {
     "duration": null,
     "end_time": null,
     "exception": null,
     "start_time": null,
     "status": "pending"
    },
    "tags": []
   },
   "outputs": [
    {
     "name": "stdout",
     "output_type": "stream",
     "text": [
      "(2000, 31)\n",
      "(8772, 32)\n"
     ]
    }
   ],
   "source": [
    "print(dftest.shape)\n",
    "print(df.shape)"
   ]
  },
  {
   "cell_type": "code",
   "execution_count": 24,
   "id": "7c994809",
   "metadata": {
    "execution": {
     "iopub.execute_input": "2023-10-19T16:53:43.799399Z",
     "iopub.status.busy": "2023-10-19T16:53:43.798670Z",
     "iopub.status.idle": "2023-10-19T16:53:43.809267Z",
     "shell.execute_reply": "2023-10-19T16:53:43.808322Z",
     "shell.execute_reply.started": "2023-10-19T16:53:43.799364Z"
    },
    "papermill": {
     "duration": null,
     "end_time": null,
     "exception": null,
     "start_time": null,
     "status": "pending"
    },
    "tags": []
   },
   "outputs": [
    {
     "data": {
      "text/plain": [
       "id                     0\n",
       "time                   0\n",
       "latitude               0\n",
       "longitude              0\n",
       "depth                203\n",
       "mag                  186\n",
       "nst                  313\n",
       "gap                   56\n",
       "dmin                  78\n",
       "rms                    0\n",
       "updated                0\n",
       "place                  0\n",
       "horizontalError       94\n",
       "depthError           117\n",
       "magError             101\n",
       "magNst               140\n",
       "magSource              0\n",
       "magType_mb             0\n",
       "magType_mb_lg          0\n",
       "magType_md             0\n",
       "magType_mh             0\n",
       "magType_ml             0\n",
       "magType_mw             0\n",
       "magType_mwr            0\n",
       "magType_mww            0\n",
       "type_earthquake        0\n",
       "type_explosion         0\n",
       "type_ice quake         0\n",
       "type_other event       0\n",
       "type_quarry blast      0\n",
       "status_automatic       0\n",
       "status_reviewed        0\n",
       "dtype: int64"
      ]
     },
     "execution_count": 24,
     "metadata": {},
     "output_type": "execute_result"
    }
   ],
   "source": [
    "df.isnull().sum()"
   ]
  },
  {
   "cell_type": "code",
   "execution_count": 25,
   "id": "85fbf4c9",
   "metadata": {
    "execution": {
     "iopub.execute_input": "2023-10-19T16:53:48.244325Z",
     "iopub.status.busy": "2023-10-19T16:53:48.243557Z",
     "iopub.status.idle": "2023-10-19T16:53:48.256260Z",
     "shell.execute_reply": "2023-10-19T16:53:48.255226Z",
     "shell.execute_reply.started": "2023-10-19T16:53:48.244297Z"
    },
    "papermill": {
     "duration": null,
     "end_time": null,
     "exception": null,
     "start_time": null,
     "status": "pending"
    },
    "tags": []
   },
   "outputs": [],
   "source": [
    "df[\"depth\"].fillna(df[\"depth\"].mean(),inplace=True)\n",
    "df[\"mag\"].fillna(df[\"mag\"].mean(),inplace=True)\n",
    "#df[\"magType\"].fillna(df[\"magType\"].mean(),inplace=True)\n",
    "df[\"nst\"].fillna(df[\"nst\"].mean(),inplace=True)\n",
    "df[\"gap\"].fillna(df[\"gap\"].mean(),inplace=True)\n",
    "df[\"dmin\"].fillna(df[\"dmin\"].mean(),inplace=True)\n",
    "df[\"horizontalError\"].fillna(df[\"horizontalError\"].mean(),inplace=True)\n",
    "df[\"depthError\"].fillna(df[\"depthError\"].mean(),inplace=True)\n",
    "df[\"magError\"].fillna(df[\"magError\"].mean(),inplace=True)\n",
    "df[\"magNst\"].fillna(df[\"magNst\"].mean(),inplace=True)"
   ]
  },
  {
   "cell_type": "code",
   "execution_count": 26,
   "id": "056488bb",
   "metadata": {
    "execution": {
     "iopub.execute_input": "2023-10-19T16:53:50.085523Z",
     "iopub.status.busy": "2023-10-19T16:53:50.084922Z",
     "iopub.status.idle": "2023-10-19T16:53:50.094320Z",
     "shell.execute_reply": "2023-10-19T16:53:50.093395Z",
     "shell.execute_reply.started": "2023-10-19T16:53:50.085493Z"
    },
    "papermill": {
     "duration": null,
     "end_time": null,
     "exception": null,
     "start_time": null,
     "status": "pending"
    },
    "tags": []
   },
   "outputs": [],
   "source": [
    "df[\"twoid\"] = df[\"id\"].apply(lambda x: x[:2])\n",
    "dftest[\"twoid\"] = dftest[\"id\"].apply(lambda x: x[:2])"
   ]
  },
  {
   "cell_type": "code",
   "execution_count": 27,
   "id": "55f17a23",
   "metadata": {
    "execution": {
     "iopub.execute_input": "2023-10-19T16:53:58.519345Z",
     "iopub.status.busy": "2023-10-19T16:53:58.518978Z",
     "iopub.status.idle": "2023-10-19T16:53:58.545363Z",
     "shell.execute_reply": "2023-10-19T16:53:58.544253Z",
     "shell.execute_reply.started": "2023-10-19T16:53:58.519318Z"
    },
    "papermill": {
     "duration": null,
     "end_time": null,
     "exception": null,
     "start_time": null,
     "status": "pending"
    },
    "tags": []
   },
   "outputs": [
    {
     "data": {
      "text/html": [
       "<div>\n",
       "<style scoped>\n",
       "    .dataframe tbody tr th:only-of-type {\n",
       "        vertical-align: middle;\n",
       "    }\n",
       "\n",
       "    .dataframe tbody tr th {\n",
       "        vertical-align: top;\n",
       "    }\n",
       "\n",
       "    .dataframe thead th {\n",
       "        text-align: right;\n",
       "    }\n",
       "</style>\n",
       "<table border=\"1\" class=\"dataframe\">\n",
       "  <thead>\n",
       "    <tr style=\"text-align: right;\">\n",
       "      <th></th>\n",
       "      <th>id</th>\n",
       "      <th>time</th>\n",
       "      <th>latitude</th>\n",
       "      <th>longitude</th>\n",
       "      <th>depth</th>\n",
       "      <th>mag</th>\n",
       "      <th>nst</th>\n",
       "      <th>gap</th>\n",
       "      <th>dmin</th>\n",
       "      <th>rms</th>\n",
       "      <th>...</th>\n",
       "      <th>magType_mwr</th>\n",
       "      <th>magType_mww</th>\n",
       "      <th>type_earthquake</th>\n",
       "      <th>type_explosion</th>\n",
       "      <th>type_ice quake</th>\n",
       "      <th>type_other event</th>\n",
       "      <th>type_quarry blast</th>\n",
       "      <th>status_automatic</th>\n",
       "      <th>status_reviewed</th>\n",
       "      <th>twoid</th>\n",
       "    </tr>\n",
       "  </thead>\n",
       "  <tbody>\n",
       "    <tr>\n",
       "      <th>0</th>\n",
       "      <td>mb90024428</td>\n",
       "      <td>6</td>\n",
       "      <td>33.272268</td>\n",
       "      <td>-121.688226</td>\n",
       "      <td>20.89</td>\n",
       "      <td>1.790531</td>\n",
       "      <td>16.000000</td>\n",
       "      <td>80.000000</td>\n",
       "      <td>0.189600</td>\n",
       "      <td>0.543262</td>\n",
       "      <td>...</td>\n",
       "      <td>0</td>\n",
       "      <td>0</td>\n",
       "      <td>1</td>\n",
       "      <td>0</td>\n",
       "      <td>0</td>\n",
       "      <td>0</td>\n",
       "      <td>0</td>\n",
       "      <td>0</td>\n",
       "      <td>1</td>\n",
       "      <td>mb</td>\n",
       "    </tr>\n",
       "    <tr>\n",
       "      <th>1</th>\n",
       "      <td>av92000481</td>\n",
       "      <td>6</td>\n",
       "      <td>54.834051</td>\n",
       "      <td>-195.928453</td>\n",
       "      <td>5.47</td>\n",
       "      <td>0.493387</td>\n",
       "      <td>6.000000</td>\n",
       "      <td>86.000000</td>\n",
       "      <td>0.580381</td>\n",
       "      <td>0.042003</td>\n",
       "      <td>...</td>\n",
       "      <td>0</td>\n",
       "      <td>0</td>\n",
       "      <td>1</td>\n",
       "      <td>0</td>\n",
       "      <td>0</td>\n",
       "      <td>0</td>\n",
       "      <td>0</td>\n",
       "      <td>0</td>\n",
       "      <td>1</td>\n",
       "      <td>av</td>\n",
       "    </tr>\n",
       "    <tr>\n",
       "      <th>2</th>\n",
       "      <td>av92000476</td>\n",
       "      <td>6</td>\n",
       "      <td>36.356531</td>\n",
       "      <td>-142.555407</td>\n",
       "      <td>2.66</td>\n",
       "      <td>0.128441</td>\n",
       "      <td>9.000000</td>\n",
       "      <td>82.000000</td>\n",
       "      <td>0.580381</td>\n",
       "      <td>0.325404</td>\n",
       "      <td>...</td>\n",
       "      <td>0</td>\n",
       "      <td>0</td>\n",
       "      <td>1</td>\n",
       "      <td>0</td>\n",
       "      <td>0</td>\n",
       "      <td>0</td>\n",
       "      <td>0</td>\n",
       "      <td>0</td>\n",
       "      <td>1</td>\n",
       "      <td>av</td>\n",
       "    </tr>\n",
       "    <tr>\n",
       "      <th>3</th>\n",
       "      <td>ci40536176</td>\n",
       "      <td>6</td>\n",
       "      <td>36.202698</td>\n",
       "      <td>-160.911775</td>\n",
       "      <td>9.73</td>\n",
       "      <td>-0.267106</td>\n",
       "      <td>22.000000</td>\n",
       "      <td>214.000000</td>\n",
       "      <td>0.071750</td>\n",
       "      <td>1.018775</td>\n",
       "      <td>...</td>\n",
       "      <td>0</td>\n",
       "      <td>0</td>\n",
       "      <td>1</td>\n",
       "      <td>0</td>\n",
       "      <td>0</td>\n",
       "      <td>0</td>\n",
       "      <td>0</td>\n",
       "      <td>0</td>\n",
       "      <td>1</td>\n",
       "      <td>ci</td>\n",
       "    </tr>\n",
       "    <tr>\n",
       "      <th>4</th>\n",
       "      <td>ak023adri0xq</td>\n",
       "      <td>6</td>\n",
       "      <td>43.819581</td>\n",
       "      <td>-192.913599</td>\n",
       "      <td>75.90</td>\n",
       "      <td>2.012563</td>\n",
       "      <td>22.574527</td>\n",
       "      <td>113.664517</td>\n",
       "      <td>0.580381</td>\n",
       "      <td>0.978111</td>\n",
       "      <td>...</td>\n",
       "      <td>0</td>\n",
       "      <td>0</td>\n",
       "      <td>1</td>\n",
       "      <td>0</td>\n",
       "      <td>0</td>\n",
       "      <td>0</td>\n",
       "      <td>0</td>\n",
       "      <td>0</td>\n",
       "      <td>1</td>\n",
       "      <td>ak</td>\n",
       "    </tr>\n",
       "    <tr>\n",
       "      <th>...</th>\n",
       "      <td>...</td>\n",
       "      <td>...</td>\n",
       "      <td>...</td>\n",
       "      <td>...</td>\n",
       "      <td>...</td>\n",
       "      <td>...</td>\n",
       "      <td>...</td>\n",
       "      <td>...</td>\n",
       "      <td>...</td>\n",
       "      <td>...</td>\n",
       "      <td>...</td>\n",
       "      <td>...</td>\n",
       "      <td>...</td>\n",
       "      <td>...</td>\n",
       "      <td>...</td>\n",
       "      <td>...</td>\n",
       "      <td>...</td>\n",
       "      <td>...</td>\n",
       "      <td>...</td>\n",
       "      <td>...</td>\n",
       "      <td>...</td>\n",
       "    </tr>\n",
       "    <tr>\n",
       "      <th>1995</th>\n",
       "      <td>nc73921886</td>\n",
       "      <td>0</td>\n",
       "      <td>17.193430</td>\n",
       "      <td>-181.974876</td>\n",
       "      <td>2.25</td>\n",
       "      <td>0.597046</td>\n",
       "      <td>13.000000</td>\n",
       "      <td>66.000000</td>\n",
       "      <td>0.010890</td>\n",
       "      <td>-0.191347</td>\n",
       "      <td>...</td>\n",
       "      <td>0</td>\n",
       "      <td>0</td>\n",
       "      <td>1</td>\n",
       "      <td>0</td>\n",
       "      <td>0</td>\n",
       "      <td>0</td>\n",
       "      <td>0</td>\n",
       "      <td>1</td>\n",
       "      <td>0</td>\n",
       "      <td>nc</td>\n",
       "    </tr>\n",
       "    <tr>\n",
       "      <th>1996</th>\n",
       "      <td>ak023a452ots</td>\n",
       "      <td>0</td>\n",
       "      <td>70.005939</td>\n",
       "      <td>-163.073077</td>\n",
       "      <td>24.30</td>\n",
       "      <td>0.560928</td>\n",
       "      <td>22.574527</td>\n",
       "      <td>113.664517</td>\n",
       "      <td>0.580381</td>\n",
       "      <td>0.543477</td>\n",
       "      <td>...</td>\n",
       "      <td>0</td>\n",
       "      <td>0</td>\n",
       "      <td>1</td>\n",
       "      <td>0</td>\n",
       "      <td>0</td>\n",
       "      <td>0</td>\n",
       "      <td>0</td>\n",
       "      <td>0</td>\n",
       "      <td>1</td>\n",
       "      <td>ak</td>\n",
       "    </tr>\n",
       "    <tr>\n",
       "      <th>1997</th>\n",
       "      <td>ci40531952</td>\n",
       "      <td>0</td>\n",
       "      <td>45.712914</td>\n",
       "      <td>-134.585391</td>\n",
       "      <td>16.95</td>\n",
       "      <td>3.765984</td>\n",
       "      <td>16.000000</td>\n",
       "      <td>75.000000</td>\n",
       "      <td>0.076420</td>\n",
       "      <td>0.440656</td>\n",
       "      <td>...</td>\n",
       "      <td>0</td>\n",
       "      <td>0</td>\n",
       "      <td>1</td>\n",
       "      <td>0</td>\n",
       "      <td>0</td>\n",
       "      <td>0</td>\n",
       "      <td>0</td>\n",
       "      <td>0</td>\n",
       "      <td>1</td>\n",
       "      <td>ci</td>\n",
       "    </tr>\n",
       "    <tr>\n",
       "      <th>1998</th>\n",
       "      <td>ak023a4528xn</td>\n",
       "      <td>0</td>\n",
       "      <td>65.660030</td>\n",
       "      <td>-179.641871</td>\n",
       "      <td>13.60</td>\n",
       "      <td>2.914436</td>\n",
       "      <td>22.574527</td>\n",
       "      <td>113.664517</td>\n",
       "      <td>0.580381</td>\n",
       "      <td>0.802550</td>\n",
       "      <td>...</td>\n",
       "      <td>0</td>\n",
       "      <td>0</td>\n",
       "      <td>1</td>\n",
       "      <td>0</td>\n",
       "      <td>0</td>\n",
       "      <td>0</td>\n",
       "      <td>0</td>\n",
       "      <td>0</td>\n",
       "      <td>1</td>\n",
       "      <td>ak</td>\n",
       "    </tr>\n",
       "    <tr>\n",
       "      <th>1999</th>\n",
       "      <td>ak023a4505et</td>\n",
       "      <td>0</td>\n",
       "      <td>30.926749</td>\n",
       "      <td>-207.799396</td>\n",
       "      <td>44.60</td>\n",
       "      <td>1.236958</td>\n",
       "      <td>22.574527</td>\n",
       "      <td>113.664517</td>\n",
       "      <td>0.580381</td>\n",
       "      <td>0.885860</td>\n",
       "      <td>...</td>\n",
       "      <td>0</td>\n",
       "      <td>0</td>\n",
       "      <td>1</td>\n",
       "      <td>0</td>\n",
       "      <td>0</td>\n",
       "      <td>0</td>\n",
       "      <td>0</td>\n",
       "      <td>0</td>\n",
       "      <td>1</td>\n",
       "      <td>ak</td>\n",
       "    </tr>\n",
       "  </tbody>\n",
       "</table>\n",
       "<p>2000 rows × 32 columns</p>\n",
       "</div>"
      ],
      "text/plain": [
       "                id  time   latitude   longitude  depth       mag        nst  \\\n",
       "0       mb90024428     6  33.272268 -121.688226  20.89  1.790531  16.000000   \n",
       "1       av92000481     6  54.834051 -195.928453   5.47  0.493387   6.000000   \n",
       "2       av92000476     6  36.356531 -142.555407   2.66  0.128441   9.000000   \n",
       "3       ci40536176     6  36.202698 -160.911775   9.73 -0.267106  22.000000   \n",
       "4     ak023adri0xq     6  43.819581 -192.913599  75.90  2.012563  22.574527   \n",
       "...            ...   ...        ...         ...    ...       ...        ...   \n",
       "1995    nc73921886     0  17.193430 -181.974876   2.25  0.597046  13.000000   \n",
       "1996  ak023a452ots     0  70.005939 -163.073077  24.30  0.560928  22.574527   \n",
       "1997    ci40531952     0  45.712914 -134.585391  16.95  3.765984  16.000000   \n",
       "1998  ak023a4528xn     0  65.660030 -179.641871  13.60  2.914436  22.574527   \n",
       "1999  ak023a4505et     0  30.926749 -207.799396  44.60  1.236958  22.574527   \n",
       "\n",
       "             gap      dmin       rms  ...  magType_mwr  magType_mww  \\\n",
       "0      80.000000  0.189600  0.543262  ...            0            0   \n",
       "1      86.000000  0.580381  0.042003  ...            0            0   \n",
       "2      82.000000  0.580381  0.325404  ...            0            0   \n",
       "3     214.000000  0.071750  1.018775  ...            0            0   \n",
       "4     113.664517  0.580381  0.978111  ...            0            0   \n",
       "...          ...       ...       ...  ...          ...          ...   \n",
       "1995   66.000000  0.010890 -0.191347  ...            0            0   \n",
       "1996  113.664517  0.580381  0.543477  ...            0            0   \n",
       "1997   75.000000  0.076420  0.440656  ...            0            0   \n",
       "1998  113.664517  0.580381  0.802550  ...            0            0   \n",
       "1999  113.664517  0.580381  0.885860  ...            0            0   \n",
       "\n",
       "      type_earthquake  type_explosion  type_ice quake  type_other event  \\\n",
       "0                   1               0               0                 0   \n",
       "1                   1               0               0                 0   \n",
       "2                   1               0               0                 0   \n",
       "3                   1               0               0                 0   \n",
       "4                   1               0               0                 0   \n",
       "...               ...             ...             ...               ...   \n",
       "1995                1               0               0                 0   \n",
       "1996                1               0               0                 0   \n",
       "1997                1               0               0                 0   \n",
       "1998                1               0               0                 0   \n",
       "1999                1               0               0                 0   \n",
       "\n",
       "      type_quarry blast  status_automatic  status_reviewed  twoid  \n",
       "0                     0                 0                1     mb  \n",
       "1                     0                 0                1     av  \n",
       "2                     0                 0                1     av  \n",
       "3                     0                 0                1     ci  \n",
       "4                     0                 0                1     ak  \n",
       "...                 ...               ...              ...    ...  \n",
       "1995                  0                 1                0     nc  \n",
       "1996                  0                 0                1     ak  \n",
       "1997                  0                 0                1     ci  \n",
       "1998                  0                 0                1     ak  \n",
       "1999                  0                 0                1     ak  \n",
       "\n",
       "[2000 rows x 32 columns]"
      ]
     },
     "execution_count": 27,
     "metadata": {},
     "output_type": "execute_result"
    }
   ],
   "source": [
    "dftest"
   ]
  },
  {
   "cell_type": "code",
   "execution_count": 28,
   "id": "32c1dc56",
   "metadata": {
    "execution": {
     "iopub.execute_input": "2023-10-19T16:53:55.185411Z",
     "iopub.status.busy": "2023-10-19T16:53:55.184462Z",
     "iopub.status.idle": "2023-10-19T16:53:55.193618Z",
     "shell.execute_reply": "2023-10-19T16:53:55.192704Z",
     "shell.execute_reply.started": "2023-10-19T16:53:55.185383Z"
    },
    "papermill": {
     "duration": null,
     "end_time": null,
     "exception": null,
     "start_time": null,
     "status": "pending"
    },
    "tags": []
   },
   "outputs": [],
   "source": [
    "df[\"twoid\"] = le.fit_transform(df[\"twoid\"])\n",
    "dftest[\"twoid\"] = le.fit_transform(dftest[\"twoid\"])"
   ]
  },
  {
   "cell_type": "code",
   "execution_count": 29,
   "id": "2c03e1a9",
   "metadata": {
    "execution": {
     "iopub.execute_input": "2023-10-19T16:47:53.236805Z",
     "iopub.status.busy": "2023-10-19T16:47:53.236418Z",
     "iopub.status.idle": "2023-10-19T16:47:53.250334Z",
     "shell.execute_reply": "2023-10-19T16:47:53.249474Z",
     "shell.execute_reply.started": "2023-10-19T16:47:53.236777Z"
    },
    "papermill": {
     "duration": null,
     "end_time": null,
     "exception": null,
     "start_time": null,
     "status": "pending"
    },
    "tags": []
   },
   "outputs": [
    {
     "data": {
      "text/plain": [
       "id                   0\n",
       "time                 0\n",
       "latitude             0\n",
       "longitude            0\n",
       "depth                0\n",
       "mag                  0\n",
       "nst                  0\n",
       "gap                  0\n",
       "dmin                 0\n",
       "rms                  0\n",
       "updated              0\n",
       "place                0\n",
       "horizontalError      0\n",
       "depthError           0\n",
       "magError             0\n",
       "magNst               0\n",
       "magSource            0\n",
       "magType_mb           0\n",
       "magType_mb_lg        0\n",
       "magType_md           0\n",
       "magType_mh           0\n",
       "magType_ml           0\n",
       "magType_mw           0\n",
       "magType_mwr          0\n",
       "magType_mww          0\n",
       "type_earthquake      0\n",
       "type_explosion       0\n",
       "type_ice quake       0\n",
       "type_other event     0\n",
       "type_quarry blast    0\n",
       "status_automatic     0\n",
       "status_reviewed      0\n",
       "twoid                0\n",
       "dtype: int64"
      ]
     },
     "execution_count": 29,
     "metadata": {},
     "output_type": "execute_result"
    }
   ],
   "source": [
    "df = df.dropna()\n",
    "df.isnull().sum()"
   ]
  },
  {
   "cell_type": "code",
   "execution_count": 30,
   "id": "7ac491a9",
   "metadata": {
    "execution": {
     "iopub.execute_input": "2023-10-19T16:47:54.738599Z",
     "iopub.status.busy": "2023-10-19T16:47:54.737956Z",
     "iopub.status.idle": "2023-10-19T16:47:54.744144Z",
     "shell.execute_reply": "2023-10-19T16:47:54.743229Z",
     "shell.execute_reply.started": "2023-10-19T16:47:54.738569Z"
    },
    "papermill": {
     "duration": null,
     "end_time": null,
     "exception": null,
     "start_time": null,
     "status": "pending"
    },
    "tags": []
   },
   "outputs": [
    {
     "data": {
      "text/plain": [
       "'from sklearn import preprocessing as pre\\n\\nx = df.drop(\"magSource\", axis = 1)\\nfrom sklearn.preprocessing import Normalizer,StandardScaler,MinMaxScaler\\nsc = StandardScaler()\\nx = pd.DataFrame(sc.fit_transform(x))\\nsc = MinMaxScaler()\\nx = pd.DataFrame(sc.fit_transform(x))\\n\\nsc = Normalizer()\\nx = pd.DataFrame(sc.fit_transform(x))\\ny = dfmaybe[\"magSource\"]\\ny_cat = to_categorical(y)\\n\\nsc = StandardScaler()\\ndftest = pd.DataFrame(sc.fit_transform(dftest))\\nsc = MinMaxScaler()\\ndftest = pd.DataFrame(sc.fit_transform(dftest))\\nsc = Normalizer()\\ndftest = pd.DataFrame(sc.fit_transform(dftest))'"
      ]
     },
     "execution_count": 30,
     "metadata": {},
     "output_type": "execute_result"
    }
   ],
   "source": [
    "#dfmaybe = pd.DataFrame()\n",
    "#dfmaybe[\"twoid\"] = df[\"twoid\"]\n",
    "#dfmaybe[\"magSource\"] = df['magSource']\n",
    "\"\"\"from sklearn import preprocessing as pre\n",
    "\n",
    "x = df.drop(\"magSource\", axis = 1)\n",
    "from sklearn.preprocessing import Normalizer,StandardScaler,MinMaxScaler\n",
    "sc = StandardScaler()\n",
    "x = pd.DataFrame(sc.fit_transform(x))\n",
    "sc = MinMaxScaler()\n",
    "x = pd.DataFrame(sc.fit_transform(x))\n",
    "\n",
    "sc = Normalizer()\n",
    "x = pd.DataFrame(sc.fit_transform(x))\n",
    "y = dfmaybe[\"magSource\"]\n",
    "y_cat = to_categorical(y)\n",
    "\n",
    "sc = StandardScaler()\n",
    "dftest = pd.DataFrame(sc.fit_transform(dftest))\n",
    "sc = MinMaxScaler()\n",
    "dftest = pd.DataFrame(sc.fit_transform(dftest))\n",
    "sc = Normalizer()\n",
    "dftest = pd.DataFrame(sc.fit_transform(dftest))\"\"\""
   ]
  },
  {
   "cell_type": "code",
   "execution_count": 31,
   "id": "93b44fff",
   "metadata": {
    "execution": {
     "iopub.execute_input": "2023-10-19T16:38:32.528271Z",
     "iopub.status.busy": "2023-10-19T16:38:32.527557Z",
     "iopub.status.idle": "2023-10-19T16:38:32.534102Z",
     "shell.execute_reply": "2023-10-19T16:38:32.532962Z",
     "shell.execute_reply.started": "2023-10-19T16:38:32.528243Z"
    },
    "papermill": {
     "duration": null,
     "end_time": null,
     "exception": null,
     "start_time": null,
     "status": "pending"
    },
    "tags": []
   },
   "outputs": [
    {
     "data": {
      "text/plain": [
       "(8772, 33)"
      ]
     },
     "execution_count": 31,
     "metadata": {},
     "output_type": "execute_result"
    }
   ],
   "source": [
    "#df = df.drop(['type', 'rms', 'nst', 'depth'],axis =1)\n",
    "df.shape"
   ]
  },
  {
   "cell_type": "code",
   "execution_count": 32,
   "id": "a4f6a219",
   "metadata": {
    "execution": {
     "iopub.execute_input": "2023-10-19T16:54:34.125631Z",
     "iopub.status.busy": "2023-10-19T16:54:34.125280Z",
     "iopub.status.idle": "2023-10-19T16:54:34.153185Z",
     "shell.execute_reply": "2023-10-19T16:54:34.152105Z",
     "shell.execute_reply.started": "2023-10-19T16:54:34.125604Z"
    },
    "papermill": {
     "duration": null,
     "end_time": null,
     "exception": null,
     "start_time": null,
     "status": "pending"
    },
    "tags": []
   },
   "outputs": [
    {
     "data": {
      "text/html": [
       "<div>\n",
       "<style scoped>\n",
       "    .dataframe tbody tr th:only-of-type {\n",
       "        vertical-align: middle;\n",
       "    }\n",
       "\n",
       "    .dataframe tbody tr th {\n",
       "        vertical-align: top;\n",
       "    }\n",
       "\n",
       "    .dataframe thead th {\n",
       "        text-align: right;\n",
       "    }\n",
       "</style>\n",
       "<table border=\"1\" class=\"dataframe\">\n",
       "  <thead>\n",
       "    <tr style=\"text-align: right;\">\n",
       "      <th></th>\n",
       "      <th>id</th>\n",
       "      <th>time</th>\n",
       "      <th>latitude</th>\n",
       "      <th>longitude</th>\n",
       "      <th>depth</th>\n",
       "      <th>mag</th>\n",
       "      <th>nst</th>\n",
       "      <th>gap</th>\n",
       "      <th>dmin</th>\n",
       "      <th>rms</th>\n",
       "      <th>...</th>\n",
       "      <th>magType_mwr</th>\n",
       "      <th>magType_mww</th>\n",
       "      <th>type_earthquake</th>\n",
       "      <th>type_explosion</th>\n",
       "      <th>type_ice quake</th>\n",
       "      <th>type_other event</th>\n",
       "      <th>type_quarry blast</th>\n",
       "      <th>status_automatic</th>\n",
       "      <th>status_reviewed</th>\n",
       "      <th>twoid</th>\n",
       "    </tr>\n",
       "  </thead>\n",
       "  <tbody>\n",
       "    <tr>\n",
       "      <th>0</th>\n",
       "      <td>mb90024428</td>\n",
       "      <td>6</td>\n",
       "      <td>33.272268</td>\n",
       "      <td>-121.688226</td>\n",
       "      <td>20.89</td>\n",
       "      <td>1.790531</td>\n",
       "      <td>16.000000</td>\n",
       "      <td>80.000000</td>\n",
       "      <td>0.189600</td>\n",
       "      <td>0.543262</td>\n",
       "      <td>...</td>\n",
       "      <td>0</td>\n",
       "      <td>0</td>\n",
       "      <td>1</td>\n",
       "      <td>0</td>\n",
       "      <td>0</td>\n",
       "      <td>0</td>\n",
       "      <td>0</td>\n",
       "      <td>0</td>\n",
       "      <td>1</td>\n",
       "      <td>4</td>\n",
       "    </tr>\n",
       "    <tr>\n",
       "      <th>1</th>\n",
       "      <td>av92000481</td>\n",
       "      <td>6</td>\n",
       "      <td>54.834051</td>\n",
       "      <td>-195.928453</td>\n",
       "      <td>5.47</td>\n",
       "      <td>0.493387</td>\n",
       "      <td>6.000000</td>\n",
       "      <td>86.000000</td>\n",
       "      <td>0.580381</td>\n",
       "      <td>0.042003</td>\n",
       "      <td>...</td>\n",
       "      <td>0</td>\n",
       "      <td>0</td>\n",
       "      <td>1</td>\n",
       "      <td>0</td>\n",
       "      <td>0</td>\n",
       "      <td>0</td>\n",
       "      <td>0</td>\n",
       "      <td>0</td>\n",
       "      <td>1</td>\n",
       "      <td>1</td>\n",
       "    </tr>\n",
       "    <tr>\n",
       "      <th>2</th>\n",
       "      <td>av92000476</td>\n",
       "      <td>6</td>\n",
       "      <td>36.356531</td>\n",
       "      <td>-142.555407</td>\n",
       "      <td>2.66</td>\n",
       "      <td>0.128441</td>\n",
       "      <td>9.000000</td>\n",
       "      <td>82.000000</td>\n",
       "      <td>0.580381</td>\n",
       "      <td>0.325404</td>\n",
       "      <td>...</td>\n",
       "      <td>0</td>\n",
       "      <td>0</td>\n",
       "      <td>1</td>\n",
       "      <td>0</td>\n",
       "      <td>0</td>\n",
       "      <td>0</td>\n",
       "      <td>0</td>\n",
       "      <td>0</td>\n",
       "      <td>1</td>\n",
       "      <td>1</td>\n",
       "    </tr>\n",
       "    <tr>\n",
       "      <th>3</th>\n",
       "      <td>ci40536176</td>\n",
       "      <td>6</td>\n",
       "      <td>36.202698</td>\n",
       "      <td>-160.911775</td>\n",
       "      <td>9.73</td>\n",
       "      <td>-0.267106</td>\n",
       "      <td>22.000000</td>\n",
       "      <td>214.000000</td>\n",
       "      <td>0.071750</td>\n",
       "      <td>1.018775</td>\n",
       "      <td>...</td>\n",
       "      <td>0</td>\n",
       "      <td>0</td>\n",
       "      <td>1</td>\n",
       "      <td>0</td>\n",
       "      <td>0</td>\n",
       "      <td>0</td>\n",
       "      <td>0</td>\n",
       "      <td>0</td>\n",
       "      <td>1</td>\n",
       "      <td>2</td>\n",
       "    </tr>\n",
       "    <tr>\n",
       "      <th>4</th>\n",
       "      <td>ak023adri0xq</td>\n",
       "      <td>6</td>\n",
       "      <td>43.819581</td>\n",
       "      <td>-192.913599</td>\n",
       "      <td>75.90</td>\n",
       "      <td>2.012563</td>\n",
       "      <td>22.574527</td>\n",
       "      <td>113.664517</td>\n",
       "      <td>0.580381</td>\n",
       "      <td>0.978111</td>\n",
       "      <td>...</td>\n",
       "      <td>0</td>\n",
       "      <td>0</td>\n",
       "      <td>1</td>\n",
       "      <td>0</td>\n",
       "      <td>0</td>\n",
       "      <td>0</td>\n",
       "      <td>0</td>\n",
       "      <td>0</td>\n",
       "      <td>1</td>\n",
       "      <td>0</td>\n",
       "    </tr>\n",
       "    <tr>\n",
       "      <th>...</th>\n",
       "      <td>...</td>\n",
       "      <td>...</td>\n",
       "      <td>...</td>\n",
       "      <td>...</td>\n",
       "      <td>...</td>\n",
       "      <td>...</td>\n",
       "      <td>...</td>\n",
       "      <td>...</td>\n",
       "      <td>...</td>\n",
       "      <td>...</td>\n",
       "      <td>...</td>\n",
       "      <td>...</td>\n",
       "      <td>...</td>\n",
       "      <td>...</td>\n",
       "      <td>...</td>\n",
       "      <td>...</td>\n",
       "      <td>...</td>\n",
       "      <td>...</td>\n",
       "      <td>...</td>\n",
       "      <td>...</td>\n",
       "      <td>...</td>\n",
       "    </tr>\n",
       "    <tr>\n",
       "      <th>1995</th>\n",
       "      <td>nc73921886</td>\n",
       "      <td>0</td>\n",
       "      <td>17.193430</td>\n",
       "      <td>-181.974876</td>\n",
       "      <td>2.25</td>\n",
       "      <td>0.597046</td>\n",
       "      <td>13.000000</td>\n",
       "      <td>66.000000</td>\n",
       "      <td>0.010890</td>\n",
       "      <td>-0.191347</td>\n",
       "      <td>...</td>\n",
       "      <td>0</td>\n",
       "      <td>0</td>\n",
       "      <td>1</td>\n",
       "      <td>0</td>\n",
       "      <td>0</td>\n",
       "      <td>0</td>\n",
       "      <td>0</td>\n",
       "      <td>1</td>\n",
       "      <td>0</td>\n",
       "      <td>5</td>\n",
       "    </tr>\n",
       "    <tr>\n",
       "      <th>1996</th>\n",
       "      <td>ak023a452ots</td>\n",
       "      <td>0</td>\n",
       "      <td>70.005939</td>\n",
       "      <td>-163.073077</td>\n",
       "      <td>24.30</td>\n",
       "      <td>0.560928</td>\n",
       "      <td>22.574527</td>\n",
       "      <td>113.664517</td>\n",
       "      <td>0.580381</td>\n",
       "      <td>0.543477</td>\n",
       "      <td>...</td>\n",
       "      <td>0</td>\n",
       "      <td>0</td>\n",
       "      <td>1</td>\n",
       "      <td>0</td>\n",
       "      <td>0</td>\n",
       "      <td>0</td>\n",
       "      <td>0</td>\n",
       "      <td>0</td>\n",
       "      <td>1</td>\n",
       "      <td>0</td>\n",
       "    </tr>\n",
       "    <tr>\n",
       "      <th>1997</th>\n",
       "      <td>ci40531952</td>\n",
       "      <td>0</td>\n",
       "      <td>45.712914</td>\n",
       "      <td>-134.585391</td>\n",
       "      <td>16.95</td>\n",
       "      <td>3.765984</td>\n",
       "      <td>16.000000</td>\n",
       "      <td>75.000000</td>\n",
       "      <td>0.076420</td>\n",
       "      <td>0.440656</td>\n",
       "      <td>...</td>\n",
       "      <td>0</td>\n",
       "      <td>0</td>\n",
       "      <td>1</td>\n",
       "      <td>0</td>\n",
       "      <td>0</td>\n",
       "      <td>0</td>\n",
       "      <td>0</td>\n",
       "      <td>0</td>\n",
       "      <td>1</td>\n",
       "      <td>2</td>\n",
       "    </tr>\n",
       "    <tr>\n",
       "      <th>1998</th>\n",
       "      <td>ak023a4528xn</td>\n",
       "      <td>0</td>\n",
       "      <td>65.660030</td>\n",
       "      <td>-179.641871</td>\n",
       "      <td>13.60</td>\n",
       "      <td>2.914436</td>\n",
       "      <td>22.574527</td>\n",
       "      <td>113.664517</td>\n",
       "      <td>0.580381</td>\n",
       "      <td>0.802550</td>\n",
       "      <td>...</td>\n",
       "      <td>0</td>\n",
       "      <td>0</td>\n",
       "      <td>1</td>\n",
       "      <td>0</td>\n",
       "      <td>0</td>\n",
       "      <td>0</td>\n",
       "      <td>0</td>\n",
       "      <td>0</td>\n",
       "      <td>1</td>\n",
       "      <td>0</td>\n",
       "    </tr>\n",
       "    <tr>\n",
       "      <th>1999</th>\n",
       "      <td>ak023a4505et</td>\n",
       "      <td>0</td>\n",
       "      <td>30.926749</td>\n",
       "      <td>-207.799396</td>\n",
       "      <td>44.60</td>\n",
       "      <td>1.236958</td>\n",
       "      <td>22.574527</td>\n",
       "      <td>113.664517</td>\n",
       "      <td>0.580381</td>\n",
       "      <td>0.885860</td>\n",
       "      <td>...</td>\n",
       "      <td>0</td>\n",
       "      <td>0</td>\n",
       "      <td>1</td>\n",
       "      <td>0</td>\n",
       "      <td>0</td>\n",
       "      <td>0</td>\n",
       "      <td>0</td>\n",
       "      <td>0</td>\n",
       "      <td>1</td>\n",
       "      <td>0</td>\n",
       "    </tr>\n",
       "  </tbody>\n",
       "</table>\n",
       "<p>2000 rows × 32 columns</p>\n",
       "</div>"
      ],
      "text/plain": [
       "                id  time   latitude   longitude  depth       mag        nst  \\\n",
       "0       mb90024428     6  33.272268 -121.688226  20.89  1.790531  16.000000   \n",
       "1       av92000481     6  54.834051 -195.928453   5.47  0.493387   6.000000   \n",
       "2       av92000476     6  36.356531 -142.555407   2.66  0.128441   9.000000   \n",
       "3       ci40536176     6  36.202698 -160.911775   9.73 -0.267106  22.000000   \n",
       "4     ak023adri0xq     6  43.819581 -192.913599  75.90  2.012563  22.574527   \n",
       "...            ...   ...        ...         ...    ...       ...        ...   \n",
       "1995    nc73921886     0  17.193430 -181.974876   2.25  0.597046  13.000000   \n",
       "1996  ak023a452ots     0  70.005939 -163.073077  24.30  0.560928  22.574527   \n",
       "1997    ci40531952     0  45.712914 -134.585391  16.95  3.765984  16.000000   \n",
       "1998  ak023a4528xn     0  65.660030 -179.641871  13.60  2.914436  22.574527   \n",
       "1999  ak023a4505et     0  30.926749 -207.799396  44.60  1.236958  22.574527   \n",
       "\n",
       "             gap      dmin       rms  ...  magType_mwr  magType_mww  \\\n",
       "0      80.000000  0.189600  0.543262  ...            0            0   \n",
       "1      86.000000  0.580381  0.042003  ...            0            0   \n",
       "2      82.000000  0.580381  0.325404  ...            0            0   \n",
       "3     214.000000  0.071750  1.018775  ...            0            0   \n",
       "4     113.664517  0.580381  0.978111  ...            0            0   \n",
       "...          ...       ...       ...  ...          ...          ...   \n",
       "1995   66.000000  0.010890 -0.191347  ...            0            0   \n",
       "1996  113.664517  0.580381  0.543477  ...            0            0   \n",
       "1997   75.000000  0.076420  0.440656  ...            0            0   \n",
       "1998  113.664517  0.580381  0.802550  ...            0            0   \n",
       "1999  113.664517  0.580381  0.885860  ...            0            0   \n",
       "\n",
       "      type_earthquake  type_explosion  type_ice quake  type_other event  \\\n",
       "0                   1               0               0                 0   \n",
       "1                   1               0               0                 0   \n",
       "2                   1               0               0                 0   \n",
       "3                   1               0               0                 0   \n",
       "4                   1               0               0                 0   \n",
       "...               ...             ...             ...               ...   \n",
       "1995                1               0               0                 0   \n",
       "1996                1               0               0                 0   \n",
       "1997                1               0               0                 0   \n",
       "1998                1               0               0                 0   \n",
       "1999                1               0               0                 0   \n",
       "\n",
       "      type_quarry blast  status_automatic  status_reviewed  twoid  \n",
       "0                     0                 0                1      4  \n",
       "1                     0                 0                1      1  \n",
       "2                     0                 0                1      1  \n",
       "3                     0                 0                1      2  \n",
       "4                     0                 0                1      0  \n",
       "...                 ...               ...              ...    ...  \n",
       "1995                  0                 1                0      5  \n",
       "1996                  0                 0                1      0  \n",
       "1997                  0                 0                1      2  \n",
       "1998                  0                 0                1      0  \n",
       "1999                  0                 0                1      0  \n",
       "\n",
       "[2000 rows x 32 columns]"
      ]
     },
     "execution_count": 32,
     "metadata": {},
     "output_type": "execute_result"
    }
   ],
   "source": [
    "#dftest = dftest.drop(['type', 'rms', 'nst', 'depth'],axis =1)\n",
    "dftest"
   ]
  },
  {
   "cell_type": "code",
   "execution_count": 33,
   "id": "784b322a",
   "metadata": {
    "execution": {
     "iopub.execute_input": "2023-10-19T17:01:31.430314Z",
     "iopub.status.busy": "2023-10-19T17:01:31.429977Z",
     "iopub.status.idle": "2023-10-19T17:01:31.468852Z",
     "shell.execute_reply": "2023-10-19T17:01:31.467919Z",
     "shell.execute_reply.started": "2023-10-19T17:01:31.430281Z"
    },
    "papermill": {
     "duration": null,
     "end_time": null,
     "exception": null,
     "start_time": null,
     "status": "pending"
    },
    "tags": []
   },
   "outputs": [
    {
     "ename": "ValueError",
     "evalue": "could not convert string to float: 'ak023bhr3gi7'",
     "output_type": "error",
     "traceback": [
      "\u001b[0;31m---------------------------------------------------------------------------\u001b[0m",
      "\u001b[0;31mValueError\u001b[0m                                Traceback (most recent call last)",
      "\u001b[0;32m/var/folders/y3/2lx6njq91dz_msk7w16nrqmm0000gn/T/ipykernel_78289/3481787056.py\u001b[0m in \u001b[0;36m<module>\u001b[0;34m\u001b[0m\n\u001b[1;32m     11\u001b[0m \u001b[0;32mfrom\u001b[0m \u001b[0msklearn\u001b[0m\u001b[0;34m.\u001b[0m\u001b[0mpreprocessing\u001b[0m \u001b[0;32mimport\u001b[0m \u001b[0mNormalizer\u001b[0m\u001b[0;34m,\u001b[0m\u001b[0mStandardScaler\u001b[0m\u001b[0;34m\u001b[0m\u001b[0;34m\u001b[0m\u001b[0m\n\u001b[1;32m     12\u001b[0m \u001b[0msc\u001b[0m \u001b[0;34m=\u001b[0m \u001b[0mStandardScaler\u001b[0m\u001b[0;34m(\u001b[0m\u001b[0;34m)\u001b[0m\u001b[0;34m\u001b[0m\u001b[0;34m\u001b[0m\u001b[0m\n\u001b[0;32m---> 13\u001b[0;31m \u001b[0mx\u001b[0m \u001b[0;34m=\u001b[0m \u001b[0mpd\u001b[0m\u001b[0;34m.\u001b[0m\u001b[0mDataFrame\u001b[0m\u001b[0;34m(\u001b[0m\u001b[0msc\u001b[0m\u001b[0;34m.\u001b[0m\u001b[0mfit_transform\u001b[0m\u001b[0;34m(\u001b[0m\u001b[0mx\u001b[0m\u001b[0;34m)\u001b[0m\u001b[0;34m)\u001b[0m\u001b[0;34m\u001b[0m\u001b[0;34m\u001b[0m\u001b[0m\n\u001b[0m\u001b[1;32m     14\u001b[0m \u001b[0msc\u001b[0m \u001b[0;34m=\u001b[0m \u001b[0mNormalizer\u001b[0m\u001b[0;34m(\u001b[0m\u001b[0;34m)\u001b[0m\u001b[0;34m\u001b[0m\u001b[0;34m\u001b[0m\u001b[0m\n\u001b[1;32m     15\u001b[0m \u001b[0mx\u001b[0m \u001b[0;34m=\u001b[0m \u001b[0mpd\u001b[0m\u001b[0;34m.\u001b[0m\u001b[0mDataFrame\u001b[0m\u001b[0;34m(\u001b[0m\u001b[0msc\u001b[0m\u001b[0;34m.\u001b[0m\u001b[0mfit_transform\u001b[0m\u001b[0;34m(\u001b[0m\u001b[0mx\u001b[0m\u001b[0;34m)\u001b[0m\u001b[0;34m)\u001b[0m\u001b[0;34m\u001b[0m\u001b[0;34m\u001b[0m\u001b[0m\n",
      "\u001b[0;32m~/opt/anaconda3/lib/python3.9/site-packages/sklearn/base.py\u001b[0m in \u001b[0;36mfit_transform\u001b[0;34m(self, X, y, **fit_params)\u001b[0m\n\u001b[1;32m    850\u001b[0m         \u001b[0;32mif\u001b[0m \u001b[0my\u001b[0m \u001b[0;32mis\u001b[0m \u001b[0;32mNone\u001b[0m\u001b[0;34m:\u001b[0m\u001b[0;34m\u001b[0m\u001b[0;34m\u001b[0m\u001b[0m\n\u001b[1;32m    851\u001b[0m             \u001b[0;31m# fit method of arity 1 (unsupervised transformation)\u001b[0m\u001b[0;34m\u001b[0m\u001b[0;34m\u001b[0m\u001b[0m\n\u001b[0;32m--> 852\u001b[0;31m             \u001b[0;32mreturn\u001b[0m \u001b[0mself\u001b[0m\u001b[0;34m.\u001b[0m\u001b[0mfit\u001b[0m\u001b[0;34m(\u001b[0m\u001b[0mX\u001b[0m\u001b[0;34m,\u001b[0m \u001b[0;34m**\u001b[0m\u001b[0mfit_params\u001b[0m\u001b[0;34m)\u001b[0m\u001b[0;34m.\u001b[0m\u001b[0mtransform\u001b[0m\u001b[0;34m(\u001b[0m\u001b[0mX\u001b[0m\u001b[0;34m)\u001b[0m\u001b[0;34m\u001b[0m\u001b[0;34m\u001b[0m\u001b[0m\n\u001b[0m\u001b[1;32m    853\u001b[0m         \u001b[0;32melse\u001b[0m\u001b[0;34m:\u001b[0m\u001b[0;34m\u001b[0m\u001b[0;34m\u001b[0m\u001b[0m\n\u001b[1;32m    854\u001b[0m             \u001b[0;31m# fit method of arity 2 (supervised transformation)\u001b[0m\u001b[0;34m\u001b[0m\u001b[0;34m\u001b[0m\u001b[0m\n",
      "\u001b[0;32m~/opt/anaconda3/lib/python3.9/site-packages/sklearn/preprocessing/_data.py\u001b[0m in \u001b[0;36mfit\u001b[0;34m(self, X, y, sample_weight)\u001b[0m\n\u001b[1;32m    804\u001b[0m         \u001b[0;31m# Reset internal state before fitting\u001b[0m\u001b[0;34m\u001b[0m\u001b[0;34m\u001b[0m\u001b[0m\n\u001b[1;32m    805\u001b[0m         \u001b[0mself\u001b[0m\u001b[0;34m.\u001b[0m\u001b[0m_reset\u001b[0m\u001b[0;34m(\u001b[0m\u001b[0;34m)\u001b[0m\u001b[0;34m\u001b[0m\u001b[0;34m\u001b[0m\u001b[0m\n\u001b[0;32m--> 806\u001b[0;31m         \u001b[0;32mreturn\u001b[0m \u001b[0mself\u001b[0m\u001b[0;34m.\u001b[0m\u001b[0mpartial_fit\u001b[0m\u001b[0;34m(\u001b[0m\u001b[0mX\u001b[0m\u001b[0;34m,\u001b[0m \u001b[0my\u001b[0m\u001b[0;34m,\u001b[0m \u001b[0msample_weight\u001b[0m\u001b[0;34m)\u001b[0m\u001b[0;34m\u001b[0m\u001b[0;34m\u001b[0m\u001b[0m\n\u001b[0m\u001b[1;32m    807\u001b[0m \u001b[0;34m\u001b[0m\u001b[0m\n\u001b[1;32m    808\u001b[0m     \u001b[0;32mdef\u001b[0m \u001b[0mpartial_fit\u001b[0m\u001b[0;34m(\u001b[0m\u001b[0mself\u001b[0m\u001b[0;34m,\u001b[0m \u001b[0mX\u001b[0m\u001b[0;34m,\u001b[0m \u001b[0my\u001b[0m\u001b[0;34m=\u001b[0m\u001b[0;32mNone\u001b[0m\u001b[0;34m,\u001b[0m \u001b[0msample_weight\u001b[0m\u001b[0;34m=\u001b[0m\u001b[0;32mNone\u001b[0m\u001b[0;34m)\u001b[0m\u001b[0;34m:\u001b[0m\u001b[0;34m\u001b[0m\u001b[0;34m\u001b[0m\u001b[0m\n",
      "\u001b[0;32m~/opt/anaconda3/lib/python3.9/site-packages/sklearn/preprocessing/_data.py\u001b[0m in \u001b[0;36mpartial_fit\u001b[0;34m(self, X, y, sample_weight)\u001b[0m\n\u001b[1;32m    839\u001b[0m         \"\"\"\n\u001b[1;32m    840\u001b[0m         \u001b[0mfirst_call\u001b[0m \u001b[0;34m=\u001b[0m \u001b[0;32mnot\u001b[0m \u001b[0mhasattr\u001b[0m\u001b[0;34m(\u001b[0m\u001b[0mself\u001b[0m\u001b[0;34m,\u001b[0m \u001b[0;34m\"n_samples_seen_\"\u001b[0m\u001b[0;34m)\u001b[0m\u001b[0;34m\u001b[0m\u001b[0;34m\u001b[0m\u001b[0m\n\u001b[0;32m--> 841\u001b[0;31m         X = self._validate_data(\n\u001b[0m\u001b[1;32m    842\u001b[0m             \u001b[0mX\u001b[0m\u001b[0;34m,\u001b[0m\u001b[0;34m\u001b[0m\u001b[0;34m\u001b[0m\u001b[0m\n\u001b[1;32m    843\u001b[0m             \u001b[0maccept_sparse\u001b[0m\u001b[0;34m=\u001b[0m\u001b[0;34m(\u001b[0m\u001b[0;34m\"csr\"\u001b[0m\u001b[0;34m,\u001b[0m \u001b[0;34m\"csc\"\u001b[0m\u001b[0;34m)\u001b[0m\u001b[0;34m,\u001b[0m\u001b[0;34m\u001b[0m\u001b[0;34m\u001b[0m\u001b[0m\n",
      "\u001b[0;32m~/opt/anaconda3/lib/python3.9/site-packages/sklearn/base.py\u001b[0m in \u001b[0;36m_validate_data\u001b[0;34m(self, X, y, reset, validate_separately, **check_params)\u001b[0m\n\u001b[1;32m    564\u001b[0m             \u001b[0;32mraise\u001b[0m \u001b[0mValueError\u001b[0m\u001b[0;34m(\u001b[0m\u001b[0;34m\"Validation should be done on X, y or both.\"\u001b[0m\u001b[0;34m)\u001b[0m\u001b[0;34m\u001b[0m\u001b[0;34m\u001b[0m\u001b[0m\n\u001b[1;32m    565\u001b[0m         \u001b[0;32melif\u001b[0m \u001b[0;32mnot\u001b[0m \u001b[0mno_val_X\u001b[0m \u001b[0;32mand\u001b[0m \u001b[0mno_val_y\u001b[0m\u001b[0;34m:\u001b[0m\u001b[0;34m\u001b[0m\u001b[0;34m\u001b[0m\u001b[0m\n\u001b[0;32m--> 566\u001b[0;31m             \u001b[0mX\u001b[0m \u001b[0;34m=\u001b[0m \u001b[0mcheck_array\u001b[0m\u001b[0;34m(\u001b[0m\u001b[0mX\u001b[0m\u001b[0;34m,\u001b[0m \u001b[0;34m**\u001b[0m\u001b[0mcheck_params\u001b[0m\u001b[0;34m)\u001b[0m\u001b[0;34m\u001b[0m\u001b[0;34m\u001b[0m\u001b[0m\n\u001b[0m\u001b[1;32m    567\u001b[0m             \u001b[0mout\u001b[0m \u001b[0;34m=\u001b[0m \u001b[0mX\u001b[0m\u001b[0;34m\u001b[0m\u001b[0;34m\u001b[0m\u001b[0m\n\u001b[1;32m    568\u001b[0m         \u001b[0;32melif\u001b[0m \u001b[0mno_val_X\u001b[0m \u001b[0;32mand\u001b[0m \u001b[0;32mnot\u001b[0m \u001b[0mno_val_y\u001b[0m\u001b[0;34m:\u001b[0m\u001b[0;34m\u001b[0m\u001b[0;34m\u001b[0m\u001b[0m\n",
      "\u001b[0;32m~/opt/anaconda3/lib/python3.9/site-packages/sklearn/utils/validation.py\u001b[0m in \u001b[0;36mcheck_array\u001b[0;34m(array, accept_sparse, accept_large_sparse, dtype, order, copy, force_all_finite, ensure_2d, allow_nd, ensure_min_samples, ensure_min_features, estimator)\u001b[0m\n\u001b[1;32m    744\u001b[0m                     \u001b[0marray\u001b[0m \u001b[0;34m=\u001b[0m \u001b[0marray\u001b[0m\u001b[0;34m.\u001b[0m\u001b[0mastype\u001b[0m\u001b[0;34m(\u001b[0m\u001b[0mdtype\u001b[0m\u001b[0;34m,\u001b[0m \u001b[0mcasting\u001b[0m\u001b[0;34m=\u001b[0m\u001b[0;34m\"unsafe\"\u001b[0m\u001b[0;34m,\u001b[0m \u001b[0mcopy\u001b[0m\u001b[0;34m=\u001b[0m\u001b[0;32mFalse\u001b[0m\u001b[0;34m)\u001b[0m\u001b[0;34m\u001b[0m\u001b[0;34m\u001b[0m\u001b[0m\n\u001b[1;32m    745\u001b[0m                 \u001b[0;32melse\u001b[0m\u001b[0;34m:\u001b[0m\u001b[0;34m\u001b[0m\u001b[0;34m\u001b[0m\u001b[0m\n\u001b[0;32m--> 746\u001b[0;31m                     \u001b[0marray\u001b[0m \u001b[0;34m=\u001b[0m \u001b[0mnp\u001b[0m\u001b[0;34m.\u001b[0m\u001b[0masarray\u001b[0m\u001b[0;34m(\u001b[0m\u001b[0marray\u001b[0m\u001b[0;34m,\u001b[0m \u001b[0morder\u001b[0m\u001b[0;34m=\u001b[0m\u001b[0morder\u001b[0m\u001b[0;34m,\u001b[0m \u001b[0mdtype\u001b[0m\u001b[0;34m=\u001b[0m\u001b[0mdtype\u001b[0m\u001b[0;34m)\u001b[0m\u001b[0;34m\u001b[0m\u001b[0;34m\u001b[0m\u001b[0m\n\u001b[0m\u001b[1;32m    747\u001b[0m             \u001b[0;32mexcept\u001b[0m \u001b[0mComplexWarning\u001b[0m \u001b[0;32mas\u001b[0m \u001b[0mcomplex_warning\u001b[0m\u001b[0;34m:\u001b[0m\u001b[0;34m\u001b[0m\u001b[0;34m\u001b[0m\u001b[0m\n\u001b[1;32m    748\u001b[0m                 raise ValueError(\n",
      "\u001b[0;32m~/opt/anaconda3/lib/python3.9/site-packages/pandas/core/generic.py\u001b[0m in \u001b[0;36m__array__\u001b[0;34m(self, dtype)\u001b[0m\n\u001b[1;32m   2062\u001b[0m \u001b[0;34m\u001b[0m\u001b[0m\n\u001b[1;32m   2063\u001b[0m     \u001b[0;32mdef\u001b[0m \u001b[0m__array__\u001b[0m\u001b[0;34m(\u001b[0m\u001b[0mself\u001b[0m\u001b[0;34m,\u001b[0m \u001b[0mdtype\u001b[0m\u001b[0;34m:\u001b[0m \u001b[0mnpt\u001b[0m\u001b[0;34m.\u001b[0m\u001b[0mDTypeLike\u001b[0m \u001b[0;34m|\u001b[0m \u001b[0;32mNone\u001b[0m \u001b[0;34m=\u001b[0m \u001b[0;32mNone\u001b[0m\u001b[0;34m)\u001b[0m \u001b[0;34m->\u001b[0m \u001b[0mnp\u001b[0m\u001b[0;34m.\u001b[0m\u001b[0mndarray\u001b[0m\u001b[0;34m:\u001b[0m\u001b[0;34m\u001b[0m\u001b[0;34m\u001b[0m\u001b[0m\n\u001b[0;32m-> 2064\u001b[0;31m         \u001b[0;32mreturn\u001b[0m \u001b[0mnp\u001b[0m\u001b[0;34m.\u001b[0m\u001b[0masarray\u001b[0m\u001b[0;34m(\u001b[0m\u001b[0mself\u001b[0m\u001b[0;34m.\u001b[0m\u001b[0m_values\u001b[0m\u001b[0;34m,\u001b[0m \u001b[0mdtype\u001b[0m\u001b[0;34m=\u001b[0m\u001b[0mdtype\u001b[0m\u001b[0;34m)\u001b[0m\u001b[0;34m\u001b[0m\u001b[0;34m\u001b[0m\u001b[0m\n\u001b[0m\u001b[1;32m   2065\u001b[0m \u001b[0;34m\u001b[0m\u001b[0m\n\u001b[1;32m   2066\u001b[0m     def __array_wrap__(\n",
      "\u001b[0;31mValueError\u001b[0m: could not convert string to float: 'ak023bhr3gi7'"
     ]
    }
   ],
   "source": [
    "#df = df.drop([\"id\"],axis=1)\n",
    "#idd = dftest[\"id\"]\n",
    "#dftest = dftest.drop([\"id\"],axis=1)\n",
    "\n",
    "#X = df.drop(['magSource'], axis = 1)\n",
    "#X = np.array(X)\n",
    "#Y = np.array(df['magSource'])\n",
    "#df[\"magSource\"].min()\n",
    "dd = pd.DataFrame()\n",
    "x = df.drop(\"magSource\", axis = 1)\n",
    "from sklearn.preprocessing import Normalizer,StandardScaler\n",
    "sc = StandardScaler()\n",
    "x = pd.DataFrame(sc.fit_transform(x))\n",
    "sc = Normalizer()\n",
    "x = pd.DataFrame(sc.fit_transform(x))\n",
    "y = df[\"magSource\"]\n",
    "y_cat = to_categorical(y)\n",
    "#dd = dftest['time','latitude','longitude','depth','mag','nst','gap','dmin','rms','updated','place','horizontalError','depthError','magError','magNst','status']\n",
    "sc = StandardScaler()\n",
    "dftest = pd.DataFrame(sc.fit_transform(dftest))\n",
    "sc = Normalizer()\n",
    "dftest = pd.DataFrame(sc.fit_transform(dftest))"
   ]
  },
  {
   "cell_type": "code",
   "execution_count": null,
   "id": "82106082",
   "metadata": {
    "execution": {
     "iopub.execute_input": "2023-10-19T18:09:04.233765Z",
     "iopub.status.busy": "2023-10-19T18:09:04.232816Z",
     "iopub.status.idle": "2023-10-19T18:09:04.247999Z",
     "shell.execute_reply": "2023-10-19T18:09:04.247103Z",
     "shell.execute_reply.started": "2023-10-19T18:09:04.233721Z"
    },
    "papermill": {
     "duration": null,
     "end_time": null,
     "exception": null,
     "start_time": null,
     "status": "pending"
    },
    "tags": []
   },
   "outputs": [],
   "source": [
    "train_x, test_x, train_y, test_y = train_test_split(x,y_cat, test_size = 0.2)\n",
    "train_x = np.asarray(train_x).astype(np.float32)\n",
    "train_y = np.asarray(train_y).astype(np.float32)\n",
    "train_x.shape, train_y.shape, test_x.shape, test_y.shape"
   ]
  },
  {
   "cell_type": "code",
   "execution_count": null,
   "id": "d5588c4a",
   "metadata": {
    "execution": {
     "iopub.execute_input": "2023-10-19T18:09:09.002799Z",
     "iopub.status.busy": "2023-10-19T18:09:09.001974Z",
     "iopub.status.idle": "2023-10-19T18:09:09.007104Z",
     "shell.execute_reply": "2023-10-19T18:09:09.006184Z",
     "shell.execute_reply.started": "2023-10-19T18:09:09.002768Z"
    },
    "papermill": {
     "duration": null,
     "end_time": null,
     "exception": null,
     "start_time": null,
     "status": "pending"
    },
    "tags": []
   },
   "outputs": [],
   "source": [
    "from keras.models import Sequential\n",
    "from keras.layers import Dense\n",
    "from tensorflow.keras.layers import Dropout\n",
    "\n",
    "from keras.optimizers import SGD, Adam, Adadelta, RMSprop\n",
    "import keras.backend as K"
   ]
  },
  {
   "cell_type": "code",
   "execution_count": null,
   "id": "8f70c5b5",
   "metadata": {
    "execution": {
     "iopub.execute_input": "2023-10-19T18:09:09.846719Z",
     "iopub.status.busy": "2023-10-19T18:09:09.845870Z",
     "iopub.status.idle": "2023-10-19T18:09:09.851316Z",
     "shell.execute_reply": "2023-10-19T18:09:09.850415Z",
     "shell.execute_reply.started": "2023-10-19T18:09:09.846688Z"
    },
    "papermill": {
     "duration": null,
     "end_time": null,
     "exception": null,
     "start_time": null,
     "status": "pending"
    },
    "tags": []
   },
   "outputs": [],
   "source": [
    "from keras.callbacks import ModelCheckpoint\n",
    "checkpoint_name = 'Weights-{epoch:03d}--{val_loss:.5f}.hdf5' \n",
    "checkpoint = ModelCheckpoint(checkpoint_name, monitor='val_loss', verbose = 1, save_best_only = True, mode ='auto')\n",
    "callbacks_list = [checkpoint]"
   ]
  },
  {
   "cell_type": "code",
   "execution_count": null,
   "id": "d7e55ac7",
   "metadata": {
    "papermill": {
     "duration": null,
     "end_time": null,
     "exception": null,
     "start_time": null,
     "status": "pending"
    },
    "tags": []
   },
   "outputs": [],
   "source": []
  },
  {
   "cell_type": "code",
   "execution_count": null,
   "id": "f3ff69c1",
   "metadata": {
    "_kg_hide-output": false,
    "execution": {
     "iopub.execute_input": "2023-10-19T18:19:02.094590Z",
     "iopub.status.busy": "2023-10-19T18:19:02.093648Z",
     "iopub.status.idle": "2023-10-19T18:26:53.426058Z",
     "shell.execute_reply": "2023-10-19T18:26:53.425083Z",
     "shell.execute_reply.started": "2023-10-19T18:19:02.094555Z"
    },
    "papermill": {
     "duration": null,
     "end_time": null,
     "exception": null,
     "start_time": null,
     "status": "pending"
    },
    "tags": []
   },
   "outputs": [],
   "source": [
    "import tensorflow as tf\n",
    "in_dim = len(df.columns)-1\n",
    "model = Sequential()\n",
    "model.add(Dense(20, input_dim = in_dim, activation = 'relu'))\n",
    "model.add(tf.keras.layers.BatchNormalization())\n",
    "model.add(Dense(20, activation = 'relu',kernel_regularizer=tf.keras.regularizers.L1(0.01), activity_regularizer=tf.keras.regularizers.L2(0.01)))\n",
    "model.add(tf.keras.layers.BatchNormalization())\n",
    "model.add(Dropout(0.2))\n",
    "model.add(Dense(64, activation = 'relu',kernel_regularizer=tf.keras.regularizers.L1(0.01), activity_regularizer=tf.keras.regularizers.L2(0.01)))\n",
    "model.add(tf.keras.layers.BatchNormalization())\n",
    "model.add(Dropout(0.2))\n",
    "model.add(Dense(18, activation = 'relu',kernel_regularizer=tf.keras.regularizers.L1(0.01), activity_regularizer=tf.keras.regularizers.L2(0.01)))\n",
    "model.add(tf.keras.layers.BatchNormalization())\n",
    "model.add(Dropout(0.2))\n",
    "model.add(Dense(20, input_dim = in_dim, activation = 'relu'))\n",
    "model.add(tf.keras.layers.BatchNormalization())\n",
    "model.add(Dense(20, activation = 'relu',kernel_regularizer=tf.keras.regularizers.L1(0.01), activity_regularizer=tf.keras.regularizers.L2(0.01)))\n",
    "model.add(tf.keras.layers.BatchNormalization())\n",
    "model.add(Dropout(0.2))\n",
    "model.add(Dense(10, activation = 'relu',kernel_regularizer=tf.keras.regularizers.L1(0.01), activity_regularizer=tf.keras.regularizers.L2(0.01)))\n",
    "model.add(tf.keras.layers.BatchNormalization())\n",
    "model.add(Dropout(0.2))\n",
    "model.add(Dense(15, activation = 'relu',kernel_regularizer=tf.keras.regularizers.L1(0.01), activity_regularizer=tf.keras.regularizers.L2(0.01)))\n",
    "model.add(tf.keras.layers.BatchNormalization())\n",
    "model.add(Dropout(0.2))\n",
    "model.add(Dense(16, activation = 'softmax'))\n",
    "import keras\n",
    "#opt = tf.keras.optimizers.RMSprop(learning_rate=0.0001,rho=0.95)\n",
    "#my_adadelta = keras.optimizers.Adadelta(learning_rate=0.01, rho=0.95)\n",
    "#model.compile(loss =\"categorical_crossentropy\",optimizer = opt, metrics = [\"accuracy\"])\n",
    "model.compile(Adam(learning_rate = 0.0001), \"categorical_crossentropy\", metrics = [\"accuracy\"])\n",
    "model.fit(train_x, train_y, epochs = 200,validation_data=(test_x, test_y),callbacks=callbacks_list)\n",
    "scores = model.evaluate(test_x, test_y)\n",
    "\n",
    "for i, m in enumerate(model.metrics_names):\n",
    "    print(\"\\n%s: %.3f\"% (m, scores[i]))"
   ]
  },
  {
   "cell_type": "code",
   "execution_count": null,
   "id": "f28db05d",
   "metadata": {
    "execution": {
     "iopub.execute_input": "2023-10-19T17:32:24.719273Z",
     "iopub.status.busy": "2023-10-19T17:32:24.718455Z",
     "iopub.status.idle": "2023-10-19T17:32:24.754225Z",
     "shell.execute_reply": "2023-10-19T17:32:24.752940Z",
     "shell.execute_reply.started": "2023-10-19T17:32:24.719244Z"
    },
    "papermill": {
     "duration": null,
     "end_time": null,
     "exception": null,
     "start_time": null,
     "status": "pending"
    },
    "tags": []
   },
   "outputs": [],
   "source": [
    "import os\n",
    "\n",
    "def remove_folder_contents(folder):\n",
    "    for the_file in os.listdir(folder):\n",
    "        file_path = os.path.join(folder, the_file)\n",
    "        try:\n",
    "            if os.path.isfile(file_path):\n",
    "                os.unlink(file_path)\n",
    "            elif os.path.isdir(file_path):\n",
    "                remove_folder_contents(file_path)\n",
    "                os.rmdir(file_path)\n",
    "        except Exception as e:\n",
    "            print(e)\n",
    "\n",
    "folder_path = '/kaggle/working'\n",
    "remove_folder_contents(folder_path)\n",
    "os.rmdir(folder_path)"
   ]
  },
  {
   "cell_type": "code",
   "execution_count": null,
   "id": "faab3658",
   "metadata": {
    "execution": {
     "iopub.execute_input": "2023-10-19T17:17:52.492720Z",
     "iopub.status.busy": "2023-10-19T17:17:52.492246Z",
     "iopub.status.idle": "2023-10-19T17:17:52.636870Z",
     "shell.execute_reply": "2023-10-19T17:17:52.635816Z",
     "shell.execute_reply.started": "2023-10-19T17:17:52.492658Z"
    },
    "papermill": {
     "duration": null,
     "end_time": null,
     "exception": null,
     "start_time": null,
     "status": "pending"
    },
    "tags": []
   },
   "outputs": [],
   "source": [
    "model = keras.models.load_model('Weights-200--0.17025.hdf5')"
   ]
  },
  {
   "cell_type": "code",
   "execution_count": null,
   "id": "4f879466",
   "metadata": {
    "execution": {
     "iopub.execute_input": "2023-10-19T12:04:02.970688Z",
     "iopub.status.busy": "2023-10-19T12:04:02.970373Z",
     "iopub.status.idle": "2023-10-19T12:04:06.037599Z",
     "shell.execute_reply": "2023-10-19T12:04:06.036718Z",
     "shell.execute_reply.started": "2023-10-19T12:04:02.970662Z"
    },
    "papermill": {
     "duration": null,
     "end_time": null,
     "exception": null,
     "start_time": null,
     "status": "pending"
    },
    "tags": []
   },
   "outputs": [],
   "source": [
    "numerical_features = ['time','latitude','longitude','mag','magType','gap','dmin','updated','place','horizontalError','depthError','magError','magNst','status','twoid']\n",
    "plt.figure(figsize=(12,8))\n",
    "for f in numerical_features:\n",
    "    plt.subplot(3,5,numerical_features.index(f)+1)\n",
    "    sns.histplot(data=df[f],bins=20,kde=True)\n",
    "    plt.title(f)\n",
    "plt.tight_layout()\n",
    "plt.show()"
   ]
  },
  {
   "cell_type": "code",
   "execution_count": null,
   "id": "78bf3740",
   "metadata": {
    "execution": {
     "iopub.execute_input": "2023-10-19T12:14:49.825331Z",
     "iopub.status.busy": "2023-10-19T12:14:49.824550Z",
     "iopub.status.idle": "2023-10-19T12:14:49.853934Z",
     "shell.execute_reply": "2023-10-19T12:14:49.852815Z",
     "shell.execute_reply.started": "2023-10-19T12:14:49.825301Z"
    },
    "papermill": {
     "duration": null,
     "end_time": null,
     "exception": null,
     "start_time": null,
     "status": "pending"
    },
    "tags": []
   },
   "outputs": [],
   "source": [
    "df[\"updated\"].is_unique().sum()"
   ]
  },
  {
   "cell_type": "code",
   "execution_count": null,
   "id": "5fd79370",
   "metadata": {
    "execution": {
     "iopub.execute_input": "2023-10-19T11:10:49.277706Z",
     "iopub.status.busy": "2023-10-19T11:10:49.277411Z",
     "iopub.status.idle": "2023-10-19T11:10:49.297917Z",
     "shell.execute_reply": "2023-10-19T11:10:49.297025Z",
     "shell.execute_reply.started": "2023-10-19T11:10:49.277685Z"
    },
    "papermill": {
     "duration": null,
     "end_time": null,
     "exception": null,
     "start_time": null,
     "status": "pending"
    },
    "tags": []
   },
   "outputs": [],
   "source": [
    "x"
   ]
  },
  {
   "cell_type": "code",
   "execution_count": null,
   "id": "4ac0a091",
   "metadata": {
    "execution": {
     "iopub.execute_input": "2023-10-19T12:32:26.338321Z",
     "iopub.status.busy": "2023-10-19T12:32:26.337424Z",
     "iopub.status.idle": "2023-10-19T12:32:27.468104Z",
     "shell.execute_reply": "2023-10-19T12:32:27.467172Z",
     "shell.execute_reply.started": "2023-10-19T12:32:26.338288Z"
    },
    "papermill": {
     "duration": null,
     "end_time": null,
     "exception": null,
     "start_time": null,
     "status": "pending"
    },
    "tags": []
   },
   "outputs": [],
   "source": [
    "correlation_matrix = df.corr()\n",
    "plt.figure(figsize=(15, 12))\n",
    "sns.heatmap(correlation_matrix, annot=True, cmap='coolwarm')\n",
    "plt.title('Correlation Heatmap')\n",
    "plt.show()\n",
    "# type, rms, nst, depth"
   ]
  },
  {
   "cell_type": "code",
   "execution_count": null,
   "id": "fb8f6531",
   "metadata": {
    "execution": {
     "iopub.execute_input": "2023-10-19T16:53:11.575523Z",
     "iopub.status.busy": "2023-10-19T16:53:11.574808Z",
     "iopub.status.idle": "2023-10-19T16:53:11.601845Z",
     "shell.execute_reply": "2023-10-19T16:53:11.600830Z",
     "shell.execute_reply.started": "2023-10-19T16:53:11.575494Z"
    },
    "papermill": {
     "duration": null,
     "end_time": null,
     "exception": null,
     "start_time": null,
     "status": "pending"
    },
    "tags": []
   },
   "outputs": [],
   "source": [
    "df"
   ]
  },
  {
   "cell_type": "code",
   "execution_count": null,
   "id": "863973a6",
   "metadata": {
    "execution": {
     "iopub.execute_input": "2023-10-19T18:16:21.829210Z",
     "iopub.status.busy": "2023-10-19T18:16:21.828508Z",
     "iopub.status.idle": "2023-10-19T18:16:21.834309Z",
     "shell.execute_reply": "2023-10-19T18:16:21.833261Z",
     "shell.execute_reply.started": "2023-10-19T18:16:21.829179Z"
    },
    "papermill": {
     "duration": null,
     "end_time": null,
     "exception": null,
     "start_time": null,
     "status": "pending"
    },
    "tags": []
   },
   "outputs": [],
   "source": [
    "dftestnew = pd.DataFrame()\n",
    "dftestnew = dftest"
   ]
  },
  {
   "cell_type": "code",
   "execution_count": null,
   "id": "92e7f1c1",
   "metadata": {
    "execution": {
     "iopub.execute_input": "2023-10-19T18:16:22.597408Z",
     "iopub.status.busy": "2023-10-19T18:16:22.596546Z",
     "iopub.status.idle": "2023-10-19T18:16:22.622514Z",
     "shell.execute_reply": "2023-10-19T18:16:22.621614Z",
     "shell.execute_reply.started": "2023-10-19T18:16:22.597379Z"
    },
    "papermill": {
     "duration": null,
     "end_time": null,
     "exception": null,
     "start_time": null,
     "status": "pending"
    },
    "tags": []
   },
   "outputs": [],
   "source": [
    "dftest"
   ]
  },
  {
   "cell_type": "code",
   "execution_count": null,
   "id": "464d8275",
   "metadata": {
    "execution": {
     "iopub.execute_input": "2023-10-19T17:44:05.946861Z",
     "iopub.status.busy": "2023-10-19T17:44:05.946519Z",
     "iopub.status.idle": "2023-10-19T17:44:05.952780Z",
     "shell.execute_reply": "2023-10-19T17:44:05.951707Z",
     "shell.execute_reply.started": "2023-10-19T17:44:05.946836Z"
    },
    "papermill": {
     "duration": null,
     "end_time": null,
     "exception": null,
     "start_time": null,
     "status": "pending"
    },
    "tags": []
   },
   "outputs": [],
   "source": [
    "df.shape"
   ]
  },
  {
   "cell_type": "code",
   "execution_count": null,
   "id": "369f6daa",
   "metadata": {
    "execution": {
     "iopub.execute_input": "2023-10-19T13:51:21.351526Z",
     "iopub.status.busy": "2023-10-19T13:51:21.350731Z",
     "iopub.status.idle": "2023-10-19T13:51:21.356799Z",
     "shell.execute_reply": "2023-10-19T13:51:21.355870Z",
     "shell.execute_reply.started": "2023-10-19T13:51:21.351495Z"
    },
    "papermill": {
     "duration": null,
     "end_time": null,
     "exception": null,
     "start_time": null,
     "status": "pending"
    },
    "tags": []
   },
   "outputs": [],
   "source": [
    "dftest.rename(columns = {0:'time',1:'latitude',2:'longitude',3:'depth',4:'mag',5:'magType',6:'nst',7:'gap',8:'dmin',9:'rms',10:'updated',11:'place',12:'type',13:'horizontalError',14:'depthError',15:'magError',16:'magNst',17:'status',18:'twoid'}, inplace = True)\n",
    "#dftest.rename(columns = {0:'time',1:'latitude',2:'longitude',3:'mag',4:'magType',5:'gap',6:'dmin',7:'updated',8:'place',9:'horizontalError',10:'depthError',11:'magError',12:'magNst',13:'status',14:'twoid'}, inplace = True)"
   ]
  },
  {
   "cell_type": "code",
   "execution_count": null,
   "id": "700af1d2",
   "metadata": {
    "execution": {
     "iopub.execute_input": "2023-10-19T18:16:25.259953Z",
     "iopub.status.busy": "2023-10-19T18:16:25.259573Z",
     "iopub.status.idle": "2023-10-19T18:16:25.672978Z",
     "shell.execute_reply": "2023-10-19T18:16:25.671372Z",
     "shell.execute_reply.started": "2023-10-19T18:16:25.259927Z"
    },
    "papermill": {
     "duration": null,
     "end_time": null,
     "exception": null,
     "start_time": null,
     "status": "pending"
    },
    "tags": []
   },
   "outputs": [],
   "source": [
    "#dftest = np.asarray(dftest).astype(np.int32)\n",
    "empty = []\n",
    "m = model.predict(dftest)\n",
    "print(m)\n",
    "m=m.tolist()\n",
    "for i in m:\n",
    "    empty.append(i.index(max(i)))\n"
   ]
  },
  {
   "cell_type": "code",
   "execution_count": null,
   "id": "4595b7d1",
   "metadata": {
    "papermill": {
     "duration": null,
     "end_time": null,
     "exception": null,
     "start_time": null,
     "status": "pending"
    },
    "tags": []
   },
   "outputs": [],
   "source": [
    "empty"
   ]
  },
  {
   "cell_type": "code",
   "execution_count": null,
   "id": "5ca4a953",
   "metadata": {
    "papermill": {
     "duration": null,
     "end_time": null,
     "exception": null,
     "start_time": null,
     "status": "pending"
    },
    "tags": []
   },
   "outputs": [],
   "source": [
    "#dftest = dftest.drop(\"id\",axis=1)\n",
    "\"\"\"\n",
    "dftest = np.asarray(dftest).astype(np.int32)\n",
    "empty = []\n",
    "m = model.predict(dftest)\n",
    "m=m.tolist()\n",
    "print(m)\n",
    "for i in m:\n",
    "   # maxval = i.max()\n",
    "    try:\n",
    "        empty.append(i.index(1))\n",
    "    except:\n",
    "        empty.append(0)\"\"\""
   ]
  },
  {
   "cell_type": "code",
   "execution_count": null,
   "id": "06ffbc4f",
   "metadata": {
    "execution": {
     "iopub.execute_input": "2023-10-19T18:16:30.960067Z",
     "iopub.status.busy": "2023-10-19T18:16:30.959490Z",
     "iopub.status.idle": "2023-10-19T18:16:30.965680Z",
     "shell.execute_reply": "2023-10-19T18:16:30.964593Z",
     "shell.execute_reply.started": "2023-10-19T18:16:30.960036Z"
    },
    "papermill": {
     "duration": null,
     "end_time": null,
     "exception": null,
     "start_time": null,
     "status": "pending"
    },
    "tags": []
   },
   "outputs": [],
   "source": [
    "arr = np.array(empty)\n",
    "print(arr.T)"
   ]
  },
  {
   "cell_type": "code",
   "execution_count": null,
   "id": "60276acd",
   "metadata": {
    "execution": {
     "iopub.execute_input": "2023-10-19T18:16:31.996155Z",
     "iopub.status.busy": "2023-10-19T18:16:31.995491Z",
     "iopub.status.idle": "2023-10-19T18:16:32.002048Z",
     "shell.execute_reply": "2023-10-19T18:16:32.001034Z",
     "shell.execute_reply.started": "2023-10-19T18:16:31.996126Z"
    },
    "papermill": {
     "duration": null,
     "end_time": null,
     "exception": null,
     "start_time": null,
     "status": "pending"
    },
    "tags": []
   },
   "outputs": [],
   "source": [
    "arr[:10]"
   ]
  },
  {
   "cell_type": "code",
   "execution_count": null,
   "id": "e8f641e2",
   "metadata": {
    "execution": {
     "iopub.execute_input": "2023-10-19T18:16:34.402377Z",
     "iopub.status.busy": "2023-10-19T18:16:34.401700Z",
     "iopub.status.idle": "2023-10-19T18:16:34.408896Z",
     "shell.execute_reply": "2023-10-19T18:16:34.407991Z",
     "shell.execute_reply.started": "2023-10-19T18:16:34.402345Z"
    },
    "papermill": {
     "duration": null,
     "end_time": null,
     "exception": null,
     "start_time": null,
     "status": "pending"
    },
    "tags": []
   },
   "outputs": [],
   "source": [
    "dfnew = pd.DataFrame()\n",
    "dfnew[\"id\"] = dfid[\"id\"]"
   ]
  },
  {
   "cell_type": "code",
   "execution_count": null,
   "id": "5c4a94da",
   "metadata": {
    "execution": {
     "iopub.execute_input": "2023-10-19T18:16:34.625141Z",
     "iopub.status.busy": "2023-10-19T18:16:34.624331Z",
     "iopub.status.idle": "2023-10-19T18:16:34.629996Z",
     "shell.execute_reply": "2023-10-19T18:16:34.629066Z",
     "shell.execute_reply.started": "2023-10-19T18:16:34.625109Z"
    },
    "papermill": {
     "duration": null,
     "end_time": null,
     "exception": null,
     "start_time": null,
     "status": "pending"
    },
    "tags": []
   },
   "outputs": [],
   "source": [
    "dfnew[\"magSource\"] = arr"
   ]
  },
  {
   "cell_type": "code",
   "execution_count": null,
   "id": "e1007e94",
   "metadata": {
    "execution": {
     "iopub.execute_input": "2023-10-19T18:16:35.218456Z",
     "iopub.status.busy": "2023-10-19T18:16:35.217764Z",
     "iopub.status.idle": "2023-10-19T18:16:35.228860Z",
     "shell.execute_reply": "2023-10-19T18:16:35.227841Z",
     "shell.execute_reply.started": "2023-10-19T18:16:35.218428Z"
    },
    "papermill": {
     "duration": null,
     "end_time": null,
     "exception": null,
     "start_time": null,
     "status": "pending"
    },
    "tags": []
   },
   "outputs": [],
   "source": [
    "dfnew"
   ]
  },
  {
   "cell_type": "code",
   "execution_count": null,
   "id": "df2c2359",
   "metadata": {
    "execution": {
     "iopub.execute_input": "2023-10-19T13:04:57.504318Z",
     "iopub.status.busy": "2023-10-19T13:04:57.503459Z",
     "iopub.status.idle": "2023-10-19T13:04:57.512842Z",
     "shell.execute_reply": "2023-10-19T13:04:57.511929Z",
     "shell.execute_reply.started": "2023-10-19T13:04:57.504287Z"
    },
    "papermill": {
     "duration": null,
     "end_time": null,
     "exception": null,
     "start_time": null,
     "status": "pending"
    },
    "tags": []
   },
   "outputs": [],
   "source": [
    "dfnew.to_csv('sub14.csv')"
   ]
  },
  {
   "cell_type": "code",
   "execution_count": null,
   "id": "fb576ab8",
   "metadata": {
    "execution": {
     "iopub.execute_input": "2023-10-19T18:06:31.463146Z",
     "iopub.status.busy": "2023-10-19T18:06:31.462758Z",
     "iopub.status.idle": "2023-10-19T18:06:31.470672Z",
     "shell.execute_reply": "2023-10-19T18:06:31.469368Z",
     "shell.execute_reply.started": "2023-10-19T18:06:31.463115Z"
    },
    "papermill": {
     "duration": null,
     "end_time": null,
     "exception": null,
     "start_time": null,
     "status": "pending"
    },
    "tags": []
   },
   "outputs": [],
   "source": [
    "arr.T[600:800]"
   ]
  },
  {
   "cell_type": "code",
   "execution_count": null,
   "id": "87aedaa8",
   "metadata": {
    "execution": {
     "iopub.execute_input": "2023-10-19T18:16:38.499134Z",
     "iopub.status.busy": "2023-10-19T18:16:38.498133Z",
     "iopub.status.idle": "2023-10-19T18:16:38.505707Z",
     "shell.execute_reply": "2023-10-19T18:16:38.504768Z",
     "shell.execute_reply.started": "2023-10-19T18:16:38.499100Z"
    },
    "papermill": {
     "duration": null,
     "end_time": null,
     "exception": null,
     "start_time": null,
     "status": "pending"
    },
    "tags": []
   },
   "outputs": [],
   "source": [
    "arr.T[600:800]"
   ]
  },
  {
   "cell_type": "code",
   "execution_count": null,
   "id": "768e3c5d",
   "metadata": {
    "execution": {
     "iopub.execute_input": "2023-10-19T09:40:07.889776Z",
     "iopub.status.busy": "2023-10-19T09:40:07.889440Z",
     "iopub.status.idle": "2023-10-19T09:40:07.894519Z",
     "shell.execute_reply": "2023-10-19T09:40:07.893513Z",
     "shell.execute_reply.started": "2023-10-19T09:40:07.889749Z"
    },
    "papermill": {
     "duration": null,
     "end_time": null,
     "exception": null,
     "start_time": null,
     "status": "pending"
    },
    "tags": []
   },
   "outputs": [],
   "source": [
    "from sklearn.linear_model import LogisticRegression\n",
    "from sklearn.svm import SVC\n",
    "from sklearn.tree import DecisionTreeClassifier\n",
    "from sklearn.ensemble import VotingClassifier\n"
   ]
  },
  {
   "cell_type": "code",
   "execution_count": null,
   "id": "ff255497",
   "metadata": {
    "execution": {
     "iopub.execute_input": "2023-10-19T09:40:09.181997Z",
     "iopub.status.busy": "2023-10-19T09:40:09.181288Z",
     "iopub.status.idle": "2023-10-19T09:40:09.185940Z",
     "shell.execute_reply": "2023-10-19T09:40:09.185052Z",
     "shell.execute_reply.started": "2023-10-19T09:40:09.181969Z"
    },
    "papermill": {
     "duration": null,
     "end_time": null,
     "exception": null,
     "start_time": null,
     "status": "pending"
    },
    "tags": []
   },
   "outputs": [],
   "source": [
    "from sklearn import datasets\n",
    "from sklearn.tree import DecisionTreeClassifier\n",
    "import pandas as pd"
   ]
  },
  {
   "cell_type": "code",
   "execution_count": null,
   "id": "408f4165",
   "metadata": {
    "execution": {
     "iopub.execute_input": "2023-10-19T09:40:10.065555Z",
     "iopub.status.busy": "2023-10-19T09:40:10.065240Z",
     "iopub.status.idle": "2023-10-19T09:40:10.289673Z",
     "shell.execute_reply": "2023-10-19T09:40:10.288930Z",
     "shell.execute_reply.started": "2023-10-19T09:40:10.065534Z"
    },
    "papermill": {
     "duration": null,
     "end_time": null,
     "exception": null,
     "start_time": null,
     "status": "pending"
    },
    "tags": []
   },
   "outputs": [],
   "source": [
    "clf = DecisionTreeClassifier()\n",
    "clf.fit(train_x,train_y)"
   ]
  },
  {
   "cell_type": "code",
   "execution_count": null,
   "id": "aaa288a3",
   "metadata": {
    "execution": {
     "iopub.execute_input": "2023-10-19T04:47:02.283937Z",
     "iopub.status.busy": "2023-10-19T04:47:02.283618Z",
     "iopub.status.idle": "2023-10-19T04:47:02.300059Z",
     "shell.execute_reply": "2023-10-19T04:47:02.299323Z",
     "shell.execute_reply.started": "2023-10-19T04:47:02.283910Z"
    },
    "papermill": {
     "duration": null,
     "end_time": null,
     "exception": null,
     "start_time": null,
     "status": "pending"
    },
    "tags": []
   },
   "outputs": [],
   "source": [
    "clf.score(test_x, test_y)\n",
    "m=clf.predict(dftest)\n",
    "m=m.tolist()\n",
    "empty=[]\n",
    "for i in m:\n",
    "    try:\n",
    "        empty.append(i.index(1))\n",
    "    except:\n",
    "        empty.append(0)"
   ]
  },
  {
   "cell_type": "code",
   "execution_count": null,
   "id": "4a623498",
   "metadata": {
    "execution": {
     "iopub.execute_input": "2023-10-19T09:25:55.614506Z",
     "iopub.status.busy": "2023-10-19T09:25:55.614194Z",
     "iopub.status.idle": "2023-10-19T09:25:55.619737Z",
     "shell.execute_reply": "2023-10-19T09:25:55.618515Z",
     "shell.execute_reply.started": "2023-10-19T09:25:55.614482Z"
    },
    "papermill": {
     "duration": null,
     "end_time": null,
     "exception": null,
     "start_time": null,
     "status": "pending"
    },
    "tags": []
   },
   "outputs": [],
   "source": [
    "print(15 in empty)"
   ]
  },
  {
   "cell_type": "code",
   "execution_count": null,
   "id": "03b11429",
   "metadata": {
    "execution": {
     "iopub.execute_input": "2023-10-19T09:40:14.390207Z",
     "iopub.status.busy": "2023-10-19T09:40:14.389768Z",
     "iopub.status.idle": "2023-10-19T09:40:14.404078Z",
     "shell.execute_reply": "2023-10-19T09:40:14.403063Z",
     "shell.execute_reply.started": "2023-10-19T09:40:14.390181Z"
    },
    "papermill": {
     "duration": null,
     "end_time": null,
     "exception": null,
     "start_time": null,
     "status": "pending"
    },
    "tags": []
   },
   "outputs": [],
   "source": [
    "from sklearn.metrics import accuracy_score\n",
    "preds = clf.predict(test_x)\n",
    "accuracy_score(test_y, preds)"
   ]
  },
  {
   "cell_type": "code",
   "execution_count": null,
   "id": "0d99ad44",
   "metadata": {
    "execution": {
     "iopub.execute_input": "2023-10-19T09:59:43.242252Z",
     "iopub.status.busy": "2023-10-19T09:59:43.241461Z",
     "iopub.status.idle": "2023-10-19T09:59:43.264317Z",
     "shell.execute_reply": "2023-10-19T09:59:43.263420Z",
     "shell.execute_reply.started": "2023-10-19T09:59:43.242218Z"
    },
    "papermill": {
     "duration": null,
     "end_time": null,
     "exception": null,
     "start_time": null,
     "status": "pending"
    },
    "tags": []
   },
   "outputs": [],
   "source": [
    "dftest"
   ]
  },
  {
   "cell_type": "code",
   "execution_count": null,
   "id": "2f84a8a7",
   "metadata": {
    "papermill": {
     "duration": null,
     "end_time": null,
     "exception": null,
     "start_time": null,
     "status": "pending"
    },
    "tags": []
   },
   "outputs": [],
   "source": [
    "#dftest = dftest.drop(\"id\",axis=1)\n",
    "#dftest = np.asarray(dftest).astype(np.int32)\n",
    "empty = []\n",
    "m = clf.predict(dftest)\n",
    "m=m.tolist()\n",
    "print(m)\n",
    "for i in m:\n",
    "    try:\n",
    "        empty.append(i.index(1))\n",
    "    except:\n",
    "        empty.append(0)"
   ]
  },
  {
   "cell_type": "raw",
   "id": "54de033e",
   "metadata": {
    "execution": {
     "iopub.execute_input": "2023-10-19T09:38:19.641012Z",
     "iopub.status.busy": "2023-10-19T09:38:19.640675Z",
     "iopub.status.idle": "2023-10-19T09:38:19.654538Z",
     "shell.execute_reply": "2023-10-19T09:38:19.653725Z",
     "shell.execute_reply.started": "2023-10-19T09:38:19.640985Z"
    },
    "papermill": {
     "duration": null,
     "end_time": null,
     "exception": null,
     "start_time": null,
     "status": "pending"
    },
    "tags": []
   },
   "source": [
    "empty"
   ]
  },
  {
   "cell_type": "code",
   "execution_count": null,
   "id": "7af35e4e",
   "metadata": {
    "execution": {
     "iopub.execute_input": "2023-10-19T04:42:51.587798Z",
     "iopub.status.busy": "2023-10-19T04:42:51.586993Z",
     "iopub.status.idle": "2023-10-19T04:42:52.024742Z",
     "shell.execute_reply": "2023-10-19T04:42:52.023849Z",
     "shell.execute_reply.started": "2023-10-19T04:42:51.587768Z"
    },
    "papermill": {
     "duration": null,
     "end_time": null,
     "exception": null,
     "start_time": null,
     "status": "pending"
    },
    "tags": []
   },
   "outputs": [],
   "source": [
    "from sklearn.ensemble import  RandomForestClassifier\n",
    "rf = RandomForestClassifier(n_estimators=10)\n",
    "rf.fit(train_x,train_y)\n",
    "RandomForestClassifier(n_estimators=10)\n",
    "rf.score(test_x,test_y)"
   ]
  },
  {
   "cell_type": "code",
   "execution_count": null,
   "id": "2faba821",
   "metadata": {
    "execution": {
     "iopub.execute_input": "2023-10-19T04:45:08.639920Z",
     "iopub.status.busy": "2023-10-19T04:45:08.639585Z",
     "iopub.status.idle": "2023-10-19T04:45:08.666624Z",
     "shell.execute_reply": "2023-10-19T04:45:08.666008Z",
     "shell.execute_reply.started": "2023-10-19T04:45:08.639892Z"
    },
    "papermill": {
     "duration": null,
     "end_time": null,
     "exception": null,
     "start_time": null,
     "status": "pending"
    },
    "tags": []
   },
   "outputs": [],
   "source": [
    "from sklearn.neighbors import KNeighborsClassifier\n",
    "from sklearn.naive_bayes import GaussianNB\n",
    "from sklearn.linear_model import LogisticRegression\n",
    "from sklearn.ensemble import RandomForestClassifier\n",
    "from mlxtend.classifier import StackingClassifier"
   ]
  },
  {
   "cell_type": "code",
   "execution_count": null,
   "id": "f43fc947",
   "metadata": {
    "execution": {
     "iopub.execute_input": "2023-10-19T18:16:54.758822Z",
     "iopub.status.busy": "2023-10-19T18:16:54.758463Z",
     "iopub.status.idle": "2023-10-19T18:16:54.769520Z",
     "shell.execute_reply": "2023-10-19T18:16:54.768337Z",
     "shell.execute_reply.started": "2023-10-19T18:16:54.758794Z"
    },
    "papermill": {
     "duration": null,
     "end_time": null,
     "exception": null,
     "start_time": null,
     "status": "pending"
    },
    "tags": []
   },
   "outputs": [],
   "source": [
    "dfnew"
   ]
  },
  {
   "cell_type": "code",
   "execution_count": null,
   "id": "76a7a9c3",
   "metadata": {
    "execution": {
     "iopub.execute_input": "2023-10-19T18:16:52.631463Z",
     "iopub.status.busy": "2023-10-19T18:16:52.630728Z",
     "iopub.status.idle": "2023-10-19T18:16:52.636739Z",
     "shell.execute_reply": "2023-10-19T18:16:52.635657Z",
     "shell.execute_reply.started": "2023-10-19T18:16:52.631432Z"
    },
    "papermill": {
     "duration": null,
     "end_time": null,
     "exception": null,
     "start_time": null,
     "status": "pending"
    },
    "tags": []
   },
   "outputs": [],
   "source": [
    "\n",
    "\n",
    "dfnew =dfnew.set_index('id')\n"
   ]
  },
  {
   "cell_type": "code",
   "execution_count": null,
   "id": "cf7e9a0d",
   "metadata": {
    "execution": {
     "iopub.execute_input": "2023-10-19T08:52:48.548182Z",
     "iopub.status.busy": "2023-10-19T08:52:48.547821Z",
     "iopub.status.idle": "2023-10-19T08:52:48.554694Z",
     "shell.execute_reply": "2023-10-19T08:52:48.553386Z",
     "shell.execute_reply.started": "2023-10-19T08:52:48.548153Z"
    },
    "papermill": {
     "duration": null,
     "end_time": null,
     "exception": null,
     "start_time": null,
     "status": "pending"
    },
    "tags": []
   },
   "outputs": [],
   "source": [
    "dfnew.rename(columns = {'index':'id'}, inplace = True)\n"
   ]
  },
  {
   "cell_type": "code",
   "execution_count": null,
   "id": "ee2e3058",
   "metadata": {
    "execution": {
     "iopub.execute_input": "2023-10-19T18:17:03.413794Z",
     "iopub.status.busy": "2023-10-19T18:17:03.413443Z",
     "iopub.status.idle": "2023-10-19T18:17:03.420625Z",
     "shell.execute_reply": "2023-10-19T18:17:03.419901Z",
     "shell.execute_reply.started": "2023-10-19T18:17:03.413767Z"
    },
    "papermill": {
     "duration": null,
     "end_time": null,
     "exception": null,
     "start_time": null,
     "status": "pending"
    },
    "tags": []
   },
   "outputs": [],
   "source": [
    "dfnew.to_csv('sub28.csv')"
   ]
  },
  {
   "cell_type": "code",
   "execution_count": null,
   "id": "d6c2e920",
   "metadata": {
    "execution": {
     "iopub.execute_input": "2023-10-19T17:45:10.173030Z",
     "iopub.status.busy": "2023-10-19T17:45:10.172631Z",
     "iopub.status.idle": "2023-10-19T17:45:10.198964Z",
     "shell.execute_reply": "2023-10-19T17:45:10.198371Z",
     "shell.execute_reply.started": "2023-10-19T17:45:10.173005Z"
    },
    "papermill": {
     "duration": null,
     "end_time": null,
     "exception": null,
     "start_time": null,
     "status": "pending"
    },
    "tags": []
   },
   "outputs": [],
   "source": [
    "from sklearn import model_selection\n",
    "from sklearn import linear_model\n",
    "from sklearn import metrics"
   ]
  },
  {
   "cell_type": "code",
   "execution_count": null,
   "id": "38003d95",
   "metadata": {
    "execution": {
     "iopub.execute_input": "2023-10-19T11:43:33.509073Z",
     "iopub.status.busy": "2023-10-19T11:43:33.508368Z",
     "iopub.status.idle": "2023-10-19T11:43:33.523066Z",
     "shell.execute_reply": "2023-10-19T11:43:33.522084Z",
     "shell.execute_reply.started": "2023-10-19T11:43:33.509036Z"
    },
    "papermill": {
     "duration": null,
     "end_time": null,
     "exception": null,
     "start_time": null,
     "status": "pending"
    },
    "tags": []
   },
   "outputs": [],
   "source": [
    "empty = []\n",
    "#m = model.predict(train_y)\n",
    "#print(m)\n",
    "train_y=train_y.tolist()\n",
    "for i in train_y:\n",
    "    empty.append(i.index(max(i)))"
   ]
  },
  {
   "cell_type": "code",
   "execution_count": null,
   "id": "f708a699",
   "metadata": {
    "execution": {
     "iopub.execute_input": "2023-10-19T11:43:34.549536Z",
     "iopub.status.busy": "2023-10-19T11:43:34.548782Z",
     "iopub.status.idle": "2023-10-19T11:43:34.843258Z",
     "shell.execute_reply": "2023-10-19T11:43:34.842291Z",
     "shell.execute_reply.started": "2023-10-19T11:43:34.549505Z"
    },
    "papermill": {
     "duration": null,
     "end_time": null,
     "exception": null,
     "start_time": null,
     "status": "pending"
    },
    "tags": []
   },
   "outputs": [],
   "source": [
    "lm = linear_model.LogisticRegression(multi_class='ovr', solver='liblinear')\n",
    "lm.fit(train_x, empty)"
   ]
  },
  {
   "cell_type": "code",
   "execution_count": null,
   "id": "90adda2c",
   "metadata": {
    "execution": {
     "iopub.execute_input": "2023-10-19T11:43:40.494202Z",
     "iopub.status.busy": "2023-10-19T11:43:40.493870Z",
     "iopub.status.idle": "2023-10-19T11:43:40.501540Z",
     "shell.execute_reply": "2023-10-19T11:43:40.500734Z",
     "shell.execute_reply.started": "2023-10-19T11:43:40.494175Z"
    },
    "papermill": {
     "duration": null,
     "end_time": null,
     "exception": null,
     "start_time": null,
     "status": "pending"
    },
    "tags": []
   },
   "outputs": [],
   "source": [
    "empty = []\n",
    "#m = model.predict(train_y)\n",
    "#print(m)\n",
    "test_y=test_y.tolist()\n",
    "for i in test_y:\n",
    "    empty.append(i.index(max(i)))"
   ]
  },
  {
   "cell_type": "code",
   "execution_count": null,
   "id": "16090a3d",
   "metadata": {
    "execution": {
     "iopub.execute_input": "2023-10-19T11:43:41.600810Z",
     "iopub.status.busy": "2023-10-19T11:43:41.600501Z",
     "iopub.status.idle": "2023-10-19T11:43:41.606575Z",
     "shell.execute_reply": "2023-10-19T11:43:41.605595Z",
     "shell.execute_reply.started": "2023-10-19T11:43:41.600784Z"
    },
    "papermill": {
     "duration": null,
     "end_time": null,
     "exception": null,
     "start_time": null,
     "status": "pending"
    },
    "tags": []
   },
   "outputs": [],
   "source": [
    "len(empty)"
   ]
  },
  {
   "cell_type": "code",
   "execution_count": null,
   "id": "35d080a1",
   "metadata": {
    "execution": {
     "iopub.execute_input": "2023-10-19T11:43:42.602293Z",
     "iopub.status.busy": "2023-10-19T11:43:42.601517Z",
     "iopub.status.idle": "2023-10-19T11:43:42.610752Z",
     "shell.execute_reply": "2023-10-19T11:43:42.610032Z",
     "shell.execute_reply.started": "2023-10-19T11:43:42.602266Z"
    },
    "papermill": {
     "duration": null,
     "end_time": null,
     "exception": null,
     "start_time": null,
     "status": "pending"
    },
    "tags": []
   },
   "outputs": [],
   "source": [
    "lm.score(test_x, empty)"
   ]
  },
  {
   "cell_type": "code",
   "execution_count": null,
   "id": "9bf3fcab",
   "metadata": {
    "execution": {
     "iopub.execute_input": "2023-10-19T11:44:00.264810Z",
     "iopub.status.busy": "2023-10-19T11:44:00.264118Z",
     "iopub.status.idle": "2023-10-19T11:44:00.273097Z",
     "shell.execute_reply": "2023-10-19T11:44:00.272243Z",
     "shell.execute_reply.started": "2023-10-19T11:44:00.264782Z"
    },
    "papermill": {
     "duration": null,
     "end_time": null,
     "exception": null,
     "start_time": null,
     "status": "pending"
    },
    "tags": []
   },
   "outputs": [],
   "source": [
    "lm.predict(dftest)"
   ]
  },
  {
   "cell_type": "code",
   "execution_count": null,
   "id": "b866188e",
   "metadata": {
    "execution": {
     "iopub.execute_input": "2023-10-19T11:45:08.101407Z",
     "iopub.status.busy": "2023-10-19T11:45:08.101107Z",
     "iopub.status.idle": "2023-10-19T11:45:08.107949Z",
     "shell.execute_reply": "2023-10-19T11:45:08.106856Z",
     "shell.execute_reply.started": "2023-10-19T11:45:08.101385Z"
    },
    "papermill": {
     "duration": null,
     "end_time": null,
     "exception": null,
     "start_time": null,
     "status": "pending"
    },
    "tags": []
   },
   "outputs": [],
   "source": [
    "dfnew['magSource']=lm.predict(dftest)"
   ]
  },
  {
   "cell_type": "code",
   "execution_count": null,
   "id": "4a1ba7c2",
   "metadata": {
    "execution": {
     "iopub.execute_input": "2023-10-19T13:38:49.097154Z",
     "iopub.status.busy": "2023-10-19T13:38:49.096493Z",
     "iopub.status.idle": "2023-10-19T13:38:49.107003Z",
     "shell.execute_reply": "2023-10-19T13:38:49.106073Z",
     "shell.execute_reply.started": "2023-10-19T13:38:49.097124Z"
    },
    "papermill": {
     "duration": null,
     "end_time": null,
     "exception": null,
     "start_time": null,
     "status": "pending"
    },
    "tags": []
   },
   "outputs": [],
   "source": [
    "dfnew"
   ]
  },
  {
   "cell_type": "code",
   "execution_count": null,
   "id": "bfdf19f5",
   "metadata": {
    "papermill": {
     "duration": null,
     "end_time": null,
     "exception": null,
     "start_time": null,
     "status": "pending"
    },
    "tags": []
   },
   "outputs": [],
   "source": []
  }
 ],
 "metadata": {
  "kaggle": {
   "accelerator": "nvidiaTeslaT4",
   "dataSources": [
    {
     "databundleVersionId": 6817348,
     "sourceId": 62433,
     "sourceType": "competition"
    }
   ],
   "dockerImageVersionId": 30558,
   "isGpuEnabled": true,
   "isInternetEnabled": true,
   "language": "python",
   "sourceType": "notebook"
  },
  "kernelspec": {
   "display_name": "Python 3 (ipykernel)",
   "language": "python",
   "name": "python3"
  },
  "language_info": {
   "codemirror_mode": {
    "name": "ipython",
    "version": 3
   },
   "file_extension": ".py",
   "mimetype": "text/x-python",
   "name": "python",
   "nbconvert_exporter": "python",
   "pygments_lexer": "ipython3",
   "version": "3.9.13"
  },
  "papermill": {
   "default_parameters": {},
   "duration": 21.747658,
   "end_time": "2023-12-18T16:29:04.069005",
   "environment_variables": {},
   "exception": true,
   "input_path": "__notebook__.ipynb",
   "output_path": "__notebook__.ipynb",
   "parameters": {},
   "start_time": "2023-12-18T16:28:42.321347",
   "version": "2.4.0"
  }
 },
 "nbformat": 4,
 "nbformat_minor": 5
}
